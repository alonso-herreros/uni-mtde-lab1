{
  "cells": [
    {
      "cell_type": "markdown",
      "metadata": {
        "id": "-qnX3bcLRtUY"
      },
      "source": [
        "# **Modern Theory of Detection and Estimation**\n",
        "## **Lab 1. Machine Learning for Regression**\n",
        "### **Academic Year 2024/2025**\n",
        "\n",
        "Bachelor's Degree in:\n",
        "*   Mobile and Space Communications Engineering (groups 61 and 65)\n",
        "*   Sound and Image Engineering (groups 66 and 69)\n",
        "*   Telecommunication Technologies Engineering (groups 91, 92, and 95)\n",
        "*   Telematics Engineering (groups 71 and 79)\n",
        "\n",
        "Signal Theory and Communications Department.\n",
        "\n"
      ]
    },
    {
      "cell_type": "markdown",
      "metadata": {
        "id": "DAWyLOT848JH"
      },
      "source": [
        "# **Logistics**\n",
        "\n",
        "\n",
        "**Setup Instructions**\n",
        "\n",
        "You will need the files found on Aula Global (in the master group). Please download the files over to your own private folder. Navigate to the folder where you saved the files; it should contain \"Lab_regression_student_24_25.ipynb\" and \"data_lab_reg.csv\". Open Google Colab and upload the notebook. Sometimes, it may take a minute or so for a new Jupyter server to start. Once it's ready, you're all set to begin!\n",
        "\n",
        "In the notebook, you will clearly see where you need to add code for the different problems or write answers to questions"
      ]
    },
    {
      "cell_type": "markdown",
      "metadata": {
        "id": "4g2ZWOtRW3Uo"
      },
      "source": [
        "#**Objective**\n",
        "\n",
        "Breast cancer is a condition many of us have either experienced indirectly or heard about. It is the most common cancer among women, affecting 2.1 million globally each year and causing the highest number of cancer-related deaths in women. According to the World Health Organization (WHO), in 2022 alone, 2.3 million women were diagnosed with breast cancer, resulting in 670 000 deaths worldwide.\n",
        "\n",
        "Accurately estimating prognosis and survival duration is critical in the clinical decision-making process for cancer patients. Even patients with the same stage and similar clinical characteristics can show varying responses to treatment and survival outcomes. But why?\n",
        "\n",
        "Cancers are often linked to genetic abnormalities. Gene expression, which measures the activity of genes in a tissue, provides insights into the biological processes within that tissue. By comparing gene expression between normal and cancerous tissues, we can gain a deeper understanding of cancer prognosis and outcomes. Applying **machine learning techniques on genetic data** holds great promise for predicting **survival times** more accurately, potentially helping to avoid unnecessary surgeries and treatments.\n",
        "\n",
        "In this assignment, we will work with data from the **Molecular Taxonomy of Breast Cancer International Consortium (METABRIC)**, a Canada-UK initiative containing genetic sequencing data from 1980 primary breast cancer samples. Our **goal will be to estimate tumor size** using this data. The clinical and genomic information is sourced from cBioPortal, a web-based platform for exploring multidimensional cancer genomics data. For more details, feel free to explore [cBioPortal](https://www.cbioportal.org/)) on your own.\n",
        "\n",
        "**LET'S GET STARTED!**\n",
        "\n"
      ]
    },
    {
      "cell_type": "markdown",
      "metadata": {
        "id": "cHPgADN0N4-j"
      },
      "source": [
        "Let's prepare our environment by installing the necessary libraries, and then we can import the data!\n"
      ]
    },
    {
      "cell_type": "code",
      "execution_count": null,
      "metadata": {
        "id": "FUo-bX7cZyJR"
      },
      "outputs": [],
      "source": [
        "#Import the Python libraries that will be used in this lab assignment\n",
        "import pandas as pd\n",
        "import numpy as np\n",
        "import random\n",
        "import matplotlib.pyplot as plt\n",
        "import seaborn as sns\n",
        "\n",
        "#To avoid warning messages\n",
        "import warnings\n",
        "warnings.filterwarnings('ignore')"
      ]
    },
    {
      "cell_type": "markdown",
      "metadata": {
        "id": "jynzm5yMZyJl"
      },
      "source": [
        "# 1.&nbsp;Breast cancer dataset\n"
      ]
    },
    {
      "cell_type": "markdown",
      "metadata": {
        "id": "zYx7oMi5TZFH"
      },
      "source": [
        "## 1.1 Description\n",
        "\n",
        "In this lab, we will use the Brain Cancer dataset, which includes information about cancer patients, such as genomic expressions, age, and other clinical characteristics. The objective is to predict tumor size (column `tumor_size`) by analyzing the available data.\n",
        "\n",
        "This dataset is a simplified version of the original dataset from [Kaggle](https://www.kaggle.com/datasets/raghadalharbi/breast-cancer-gene-expression-profiles-metabric) and contains a curated subset of the most relevant features for our analysis.\n"
      ]
    },
    {
      "cell_type": "markdown",
      "metadata": {
        "id": "jWu3OO7L4NO2"
      },
      "source": [
        "### Getting the data\n",
        "\n",
        "Let's begin by uploading the dataset from your local machine. In the code cell below, click on \"Choose Files\" (or \"Elegir archivos\", if your interface is in Spanish), and select the file named \"data_lab_reg.csv\" to upload.\n",
        "\n",
        "Wait until the upload is fully completed (you should see a \"100% done\" status).\n",
        "\n",
        "**Note**: Once the file is successfully uploaded to Google Colab, you’ll see its name appear in the interface.\n"
      ]
    },
    {
      "cell_type": "code",
      "execution_count": null,
      "metadata": {
        "id": "tUgtCLwiZ5h-"
      },
      "outputs": [],
      "source": [
        "#Importing the dataset\n",
        "from google.colab import files\n",
        "\n",
        "uploaded = files.upload()"
      ]
    },
    {
      "cell_type": "code",
      "execution_count": null,
      "metadata": {
        "id": "1YVf9GP1F_1o"
      },
      "outputs": [],
      "source": [
        "#Reading the csv file into a DataFrame called Data\n",
        "Data = pd.read_csv('data_lab_reg.csv', index_col=0)\n",
        "\n",
        "# Getting the column names!\n",
        "feature_names = Data.columns.values[1:]"
      ]
    },
    {
      "cell_type": "markdown",
      "metadata": {
        "id": "9GtKOMJoHLTu"
      },
      "source": [
        "The data is now loaded into a DataFrame named `Data`. Let's take a look at the information it contains!"
      ]
    },
    {
      "cell_type": "code",
      "execution_count": null,
      "metadata": {
        "id": "aMdswl1CHJ8g"
      },
      "outputs": [],
      "source": [
        "#Displaying all columns and rows of the DataFrame\n",
        "display(Data)"
      ]
    },
    {
      "cell_type": "markdown",
      "metadata": {
        "id": "17M3PT2rJQPO"
      },
      "source": [
        "As can be observed, there are 1904 samples (or observations), each corresponding to 495 variables (or features). The **corresponding target** is the **tumor size** (in the `tumor_size` column).\n",
        "\n",
        "The variables that form each observation are:\n",
        "\n",
        "* `tumor_size` (`float`):\tTumor size measured by imaging techniques.\n",
        "* `age_at_diagnosis` (`float`): Age of the patient at diagnosis time.\n",
        "* `lymph_nodes_examined_positive` (`float`): Number of lymph node during the surgery that were involved in cancer.\n",
        "* `mutation_count` (`float`):\tNumber of gene that has relevant mutations\n",
        "* `nottingham_prognostic_index` (`float`): It is used to determine prognosis following surgery for breast cancer. Its value is calculated using three pathological criteria: the size of the tumour; the number of involved lymph nodes; and the grade of the tumour.\n",
        "* `overall_survival_months` (`float`):\tDuration from the time of the intervention to death\n",
        "\n",
        "The genetics part of the dataset contains m-RNA levels z-score for 331 genes, and mutation for 175 genes.\n",
        "Textual and categorical variables have been removed, leaving 495 available features."
      ]
    },
    {
      "cell_type": "markdown",
      "metadata": {
        "id": "gXYIi1djJ2ko"
      },
      "source": [
        "It is easy to observe that all the aforementioned **features** are **numerical values**!\n",
        "\n"
      ]
    },
    {
      "cell_type": "code",
      "execution_count": null,
      "metadata": {
        "id": "tBOimGE1J4v5"
      },
      "outputs": [],
      "source": [
        "#To show the type of each feature\n",
        "Data.dtypes"
      ]
    },
    {
      "cell_type": "markdown",
      "metadata": {
        "id": "pYh9OpBwJ8Wf"
      },
      "source": [
        "Below is the **statistical summary** of the **numerical features**."
      ]
    },
    {
      "cell_type": "code",
      "execution_count": null,
      "metadata": {
        "id": "-aKOJJH4J_iP"
      },
      "outputs": [],
      "source": [
        "Data.describe().T"
      ]
    },
    {
      "cell_type": "markdown",
      "source": [
        "Although you will find the answer later on, do you think it is appropriate for the `count` variable to have different values depending on the feature being analyzed? Take a moment to quickly review the `mutation_count`, `tumor_size`, and the other variables.\n"
      ],
      "metadata": {
        "id": "zemA9BpZeDpb"
      }
    },
    {
      "cell_type": "markdown",
      "source": [
        "Let's take a closer look at the `mutation_count`variable.\n",
        "\n"
      ],
      "metadata": {
        "id": "2KANauJDKWF_"
      }
    },
    {
      "cell_type": "code",
      "source": [
        "Data['mutation_count']"
      ],
      "metadata": {
        "id": "DkGZK8KbKq12"
      },
      "execution_count": null,
      "outputs": []
    },
    {
      "cell_type": "markdown",
      "source": [
        "With `pandas`, a null value is considered missing and is denoted by NaN (Not a Number). As can be observed, the `mutation_count` variable contains some NaN values.\n",
        "\n",
        "Machine learning models require numerical input without missing values, so we must handle these missing values before proceeding.\n",
        "\n",
        "There are several strategies for dealing with missing data:\n",
        "\n",
        "1. **Removing samples** with missing values can work if there are enough samples remaining and the number of missing samples is small.\n",
        "2. **Removing features** with missing values is a good option when the feature isn't critical to the problem.\n",
        "3. **Imputing missing values**. When features are informative and removing samples is not an option, we can attempt to estimate what the missing values should be.\n",
        "\n",
        "Let's analyze how many samples have missing values and identify which features are affected."
      ],
      "metadata": {
        "id": "-ypSjtB8KxKt"
      }
    },
    {
      "cell_type": "code",
      "source": [
        "#Computing the number of rows with NaN and identifying the features!\n",
        "num_rows_with_nans = Data.isnull().any(axis=1).sum()\n",
        "print(f\"Number of rows with missing values: {num_rows_with_nans}\")\n",
        "cols_with_nans = Data.columns[Data.isnull().any()]\n",
        "print(\"\\nColumns with missing values: \")\n",
        "print(cols_with_nans)\n",
        "for col in cols_with_nans:\n",
        "    print(f\"- {col}\")"
      ],
      "metadata": {
        "id": "uHaFnGmYL_KA"
      },
      "execution_count": null,
      "outputs": []
    },
    {
      "cell_type": "markdown",
      "source": [
        "There are only two features with missing values, one of which is the target variable in this lab assignment. Out of 1,905 samples, only 65 have missing values. We'll proceed by removing these samples, following the first approach (removing samples with missing data)."
      ],
      "metadata": {
        "id": "9zbsAe_2Mf8w"
      }
    },
    {
      "cell_type": "code",
      "source": [
        "#To drop the rows where at least one element is missing.\n",
        "Data = Data.dropna()\n",
        "display(Data)"
      ],
      "metadata": {
        "id": "rKYUxPXKNbW5"
      },
      "execution_count": null,
      "outputs": []
    },
    {
      "cell_type": "markdown",
      "source": [
        "The **DataFrame** you should obtain **must have 1839 rows and 495 columns**. If you do not get these dimensions, review your code or ask the professor before proceeding!"
      ],
      "metadata": {
        "id": "yXgbF1_XkxAd"
      }
    },
    {
      "cell_type": "markdown",
      "metadata": {
        "id": "JrkNYPi2KaWm"
      },
      "source": [
        "## 1.2 Data preparation"
      ]
    },
    {
      "cell_type": "markdown",
      "metadata": {
        "id": "KWcQzwbvKfUP"
      },
      "source": [
        "### 1.2.1 Preparing the data ($X$) and the target ($y$)"
      ]
    },
    {
      "cell_type": "markdown",
      "metadata": {
        "id": "Z3zN84uAKkwo"
      },
      "source": [
        "Create the matrix for the data ($X$) and the target vector ($y$). $X$ represents the observed data, while $y$ is a vector containing the desired values (also known as \"targets\" or \"labels\") that we aim to predict. In this assignment, the targets are the values in the  `tumor_size` column. Therefore, $y$ is a one-dimensional array whose length corresponds to the number of samples.\n",
        "\n",
        "\n",
        "\n",
        "\n",
        "The dimensions of $X$ are $1839\\times494$, where the number of rows corresponds to the number of observations, and the number of columns represents the features."
      ]
    },
    {
      "cell_type": "code",
      "execution_count": null,
      "metadata": {
        "id": "64nOikBTKjzv"
      },
      "outputs": [],
      "source": [
        "# Let's obtain the data (X) and the targets (y)\n",
        "X = Data.loc[:,Data.columns[1:]].values\n",
        "y = Data.loc[:,Data.columns[0]].values"
      ]
    },
    {
      "cell_type": "markdown",
      "metadata": {
        "id": "xBN-0CDoLqmT"
      },
      "source": [
        "Let's verify that everything is correct. How many samples are there in the dataset? Print the result!"
      ]
    },
    {
      "cell_type": "code",
      "execution_count": null,
      "metadata": {
        "id": "k6ZhHhyRC_Ko"
      },
      "outputs": [],
      "source": [
        "#YOUR CODE HERE\n",
        "# n_samples = ...\n",
        "# print(..."
      ]
    },
    {
      "cell_type": "markdown",
      "metadata": {
        "id": "FelDdS0sbebX"
      },
      "source": [
        "What is the number of features per sample? Print the result!"
      ]
    },
    {
      "cell_type": "code",
      "execution_count": null,
      "metadata": {
        "id": "6bTg7oOSe8de"
      },
      "outputs": [],
      "source": [
        "#YOUR CODE HERE\n",
        "# n_features = ...\n",
        "# print(..."
      ]
    },
    {
      "cell_type": "markdown",
      "metadata": {
        "id": "TI5g1z4u1rqO"
      },
      "source": [
        "### 1.2.2 Training, validation and test sets\n",
        "\n",
        "Splitting the dataset $([X,y])$ is crucial for an unbiased evaluation of prediction performance. Typically, the data is split into three subsets:\n",
        "\n",
        "\n",
        "*   The **training set** is used to train, or **fit**, the model. For example, it can be applied to determine the optimal weights (or coefficients) for linear regression, among other models.\n",
        "\n",
        "\n",
        "\n",
        "*  The **validation set** is used for unbiased model evaluation during hyperparameter tuning. For example, when tuning (finding the optimal value of) the `alpha` parameter in a Ridge regressor or selecting the best `kernel` for Kernel Ridge regression, you experiment with different values or types of kernels. For each chosen set of hyperparameters, the model is trained using the training set and its performance is evaluated on the validation set.\n",
        "\n",
        "\n",
        "*   The **test set** is required for an unbiased evaluation of the final model. It should not be used for training or validation purposes.\n",
        "\n",
        "The sklearn function [`train_test_split`](https://scikit-learn.org/stable/modules/generated/sklearn.model_selection.train_test_split.html) can handle this task for you!\n",
        "\n",
        "**Note:** When comparing machine learning algorithms,  it is important to fit and evaluate them on the same subsets of the dataset. This can be achieved by fixing the seed for the pseudo-random number generator used when splitting the dataset. In the [`train_test_split`](https://scikit-learn.org/stable/modules/generated/sklearn.model_selection.train_test_split.html) function, this can be done by setting the `random_state` parameter to a specific integer value.\n",
        "\n"
      ]
    },
    {
      "cell_type": "markdown",
      "source": [
        "![LabAssignment_new.png](data:image/png;base64,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)"
      ],
      "metadata": {
        "id": "72Un4FtxxCxk"
      }
    },
    {
      "cell_type": "markdown",
      "metadata": {
        "id": "d60Dj8ZRMyhc"
      },
      "source": [
        "Splitting your **data** into **training_val** and **testing** subsets (70/30) is indeed a good starting point!\n",
        "\n",
        "For simplicity, use the names `X_train_val`, `X_test`, `y_train_val`, and `y_test` for the corresponding NumPy arrays.\n",
        "\n",
        "\n",
        "$\\underline{\\text{Note}}$: Set the `random_state` to a fixed value,  such as 42."
      ]
    },
    {
      "cell_type": "markdown",
      "source": [
        "![train_test_1.png](data:image/png;base64,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)"
      ],
      "metadata": {
        "id": "trDYRuALzSK8"
      }
    },
    {
      "cell_type": "code",
      "execution_count": null,
      "metadata": {
        "id": "shli8mwJZyLY"
      },
      "outputs": [],
      "source": [
        "from sklearn.model_selection import train_test_split\n",
        "#YOUR CODE HERE\n",
        "# Initialize the variables X_train_val, X_test, y_train_val and y_test\n"
      ]
    },
    {
      "cell_type": "markdown",
      "metadata": {
        "id": "tJ8oHjUcOs89"
      },
      "source": [
        "How many samples are there in both subsets? Print the result!"
      ]
    },
    {
      "cell_type": "code",
      "execution_count": null,
      "metadata": {
        "id": "GK0tuVFGOGxI"
      },
      "outputs": [],
      "source": [
        "#YOUR CODE HERE\n",
        "# n_tr_val  = ...\n",
        "# n_tst     = ...\n",
        "# print(...\n"
      ]
    },
    {
      "cell_type": "markdown",
      "metadata": {
        "id": "zEPeTN-NNV_e"
      },
      "source": [
        "Now, split your **training_val data** ([`X_train_val`, `y_train_val`]) into two subsets: **train** and **val** (70/30).\n",
        "For simplicity, use the names `X_train`, `X_val`, `y_train`, and `y_val` for the corresponding Numpy arrays.\n",
        "\n",
        "\n",
        "\n",
        "$\\underline{\\text{Note}}$: Again, set the `random_state` to a fixed value, such as 42."
      ]
    },
    {
      "cell_type": "markdown",
      "source": [
        "![train_test_new.png](data:image/png;base64,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)"
      ],
      "metadata": {
        "id": "Oxnmza4-maxf"
      }
    },
    {
      "cell_type": "code",
      "execution_count": null,
      "metadata": {
        "id": "GfptqmL4ANaO"
      },
      "outputs": [],
      "source": [
        "#YOUR CODE HERE\n",
        "# Initialize the variables X_train, X_val, y_train and y_val"
      ]
    },
    {
      "cell_type": "markdown",
      "metadata": {
        "id": "ag8kji7jPY-o"
      },
      "source": [
        "How many samples are there in the training, validation, and test subsets, respectively?"
      ]
    },
    {
      "cell_type": "code",
      "execution_count": null,
      "metadata": {
        "id": "UtNsycFVZyLY"
      },
      "outputs": [],
      "source": [
        "#YOUR CODE HERE\n",
        "# n_tr  = ...\n",
        "# n_val = ...\n",
        "# n_tst = ...\n",
        "# print(..."
      ]
    },
    {
      "cell_type": "markdown",
      "metadata": {
        "id": "QcWyneZ1PN-7"
      },
      "source": [
        "Please, check that the total number of samples is 1839!"
      ]
    },
    {
      "cell_type": "code",
      "execution_count": null,
      "metadata": {
        "id": "f2huynn3PV3u"
      },
      "outputs": [],
      "source": [
        "#YOUR CODE HERE\n",
        "# n_tot = ...\n",
        "# print(..."
      ]
    },
    {
      "cell_type": "markdown",
      "metadata": {
        "id": "ATdMVv2t8NxW"
      },
      "source": [
        "At this moment, there are $3$ subsets avaible for implementing the regression models:\n",
        "*   `[X_train, y_train]`\n",
        "*   `[X_val, y_val]`\n",
        "*   `[X_test, y_test]`"
      ]
    },
    {
      "cell_type": "markdown",
      "metadata": {
        "id": "dglYTlC-Av6q"
      },
      "source": [
        "# <font color = 'black'> 2. Modeling </font>"
      ]
    },
    {
      "cell_type": "markdown",
      "metadata": {
        "id": "7oaBjwFSB8ci"
      },
      "source": [
        "## 2.1 Regression evaluation metrics\n",
        "\n",
        "Here are two common evaluation metrics for regression problems:\n",
        "\n",
        "1)   The **coefficiente $R^2$** indicates the proportion of the variance in the estimated variable ($\\widehat{y}$) that can be explained by the observed variables. It can be computed as follows:\n",
        "\n",
        "$$\n",
        "R^2 = 1-\\frac{\\sum\\limits_{i=1}^{N_t}{(y_i-\\hat{y}_i)^2}}{\\sum\\limits_{i=1}^{N_t}{(y_i-\\bar{y})^2}}\n",
        "$$where:\n",
        "\n",
        "* $N_t$ represents the number of samples in the set.\n",
        "* $\\hat{y}_i$, $\\,\\,i=1,\\dots,N_t\\,$ represents the estimated values (or predictions) made by the regressor for each $i$-th sample in the set.\n",
        "* $y_i$, $\\,\\,i=1,\\dots,N_t\\,$ denotes the correct target values for each $i$-th sample in the set.\n",
        "*$\\bar{y}=\\frac{1}{N_t}\\sum\\limits_{i=1}^{N_t}y_i\\,$ is the average of the true target values for the samples in the set.\n",
        "\n",
        "$R^2$ reaches a maximum value of $1$ when the model makes exact predictions for all the target values. The value of $R^2$ decreases as the prediction errors increase.\n",
        "\n",
        "If the model is not perfect but still performs better than a trivial model, then $0 < R^2 < 1$. If $R^2$ drops below $0$ and takes negative values, it indicates that the model's predictions are worse than simply using the mean of the true labels from the dataset used to design the regressor (a trivial estimation).\n",
        "\n",
        "In Python, there are several ways to calculate this coefficient:\n",
        "\n",
        "  *   Using the `r2_score` function  from the `sklearn.metrics` module.\n",
        "  *   Using the `score()` method available in each regression model.\n",
        "\n",
        "\n",
        "2)  The **Root Mean Squared Error** (RMSE) is the square root of the mean of the squared errors:\n",
        "\n",
        "\n",
        "$$\\text{RMSE} = \\sqrt{\\frac {1}{N_t}\\sum_{i=1}^{N_t}\\Big(y_i-\\hat{y}_i\\Big)^2}$$\n",
        "\n",
        "The lower the RMSE, the better the model fits the data.\n",
        "\n",
        "In Python, this error can be calculated by using the `mean_squared_error` function  from the `sklearn.metrics` module, with the parameter `squared` set to `False`.\n",
        "\n",
        "\n"
      ]
    },
    {
      "cell_type": "markdown",
      "metadata": {
        "id": "ytdAw1OhD3xD"
      },
      "source": [
        "## 2.2 Standardization of features\n",
        "The variables in a dataset can vary significantly in scale, so a common pre-processing step is to normalize them to ensure comparability.\n",
        "\n",
        "One of the most widely used methods is **standardization**, which transforms each variable to have a mean of zero and a standard deviation of one. This is done by subtracting the mean and dividing by the standard deviation for each variable.\n",
        "\n",
        "\n",
        "The [StandardScaler](https://scikit-learn.org/stable/modules/generated/sklearn.preprocessing.StandardScaler.html) model from `Scikit-learn` can handle this task for you!\n"
      ]
    },
    {
      "cell_type": "markdown",
      "metadata": {
        "id": "U8j-ZjgQTK5t"
      },
      "source": [
        "For this purpose, perform the following steps:\n",
        "*  Create an instance of `StandardScaler`.\n",
        "*  Fit the scaler using the training data (`X_train`).\n",
        "*  Create three new matrices:\n",
        "    - `X_train_s`: It contains the result of transforming `X_train` with the scaler.\n",
        "    - `X_val_s`: It contains the result of transforming `X_val` with the scaler.\n",
        "    - `X_test_s`: It contains the result of transforming `X_test` with the scaler.\n",
        "\n"
      ]
    },
    {
      "cell_type": "markdown",
      "source": [
        "![standardization_new.png](data:image/png;base64,iVBORw0KGgoAAAANSUhEUgAAAqQAAADoCAYAAAA5Q/aXAAAXOmlDQ1BJQ0MgUHJvZmlsZQAAWIW1WQVUVN23P3eSGWbo7u7u7pCSbhSGoYaWBgkJUUAFCxFQpESkBAsREZAQRZAQEFABRUVRMRCQehf0+77/q/XWW+u9M+vc+1v77LNP7H322fsOAOyLpPDwYAQdACGhURF2pgZ8Lq5ufNghAO3+AFAnkSPD9W1sLMF/W36O7XKCEekdWf89339Z6H18I8kAQDYw9vaJJIfA+AYACANyeEQUAMhVmP40NiocxqiHMGaKgCcI4+kd7P8bL+1g712MRu3yONgZwpgNACoCiRThDwBRCKbzxZD9YTlEIwAwDKE+lFAAGF1grEMOIPkAwF4A80iFhITt4C4Yi3n/ixz/fyfT+2+ZJJL/3/j3WnYLlRElMjyYFP+/3I7/uYQER/81BgNcCaHBe3d0wwLX9z4kIwv4zQXXrfDgXZ3BPBCHb6ij/R8sFeq91/oP1vGLMLH73ReyCY8y2MHw+iC/8Cgbhz/05IQAw70748D4jG+k8V9yLgWSzHd0RgPjpohoO0cYw3sAtUfG2BvDGLYo6E1CgIPzH54fPr5Gf+gIhB/FxOwPZqBEme2MxQRjgaAwC7vfYyFUgAUIBr4gGkTAz1AgDSyBITD685QGfoAEt8TAbZEgCLyFcQjcIwzuEwZjvj98hv+JYrLbzx/u9+8l8gEyzBf995h/Uf+RQAE+8PsvOulP287sIj0paf+M8K/ydnvK1cgtyG381Y4SQSmglFEGKG2UDkod8KFYUBxAGqWEUkPpo3RRmnCbOjzLN7uz/DPHHfkhTX4xBWHxGk4Bf9bg/fcKnHa5Kf/liv7MfWDx9uLfMwRRvnFROwZkGBYeH0HxD4ji04dPrq8Un1koWUaKT0FOTv7/3G7/P8uOz/qNvtvt+iKIZfAfGmUMAJVGmDjxD80ftrmWOQBwlv/QhGthU4V9wkMcOToi5jdtx50ANMADWthC2QEPEARi8D4rABWgCfSAMTAH1sABuIL98G4HwDYYAWJBIkgFmSAH5IGzoBCUgHJwBdSBJnAbtIIO0AMeg6fgGZgCM2AefARL4CdYhyAICxEhRogd4oWEIUlIAVKDdCBjyBKyg1whL8gfCoWioUQoHcqBTkGFUClUDTVCd6AOqA8agp5Ds9AC9A36hUAiCAgmBDdCBCGLUEPoIywQDoh9CH/EAUQCIgNxAlGAKEPUIm4hOhCPEc8QM4iPiGUkQFIjWZD8SGmkGtIQaY10Q/ohI5DJyGxkPrIMWY9sQfYiR5AzyEXkGgqDYkTxoaRhO92DckSRUQdQyahjqELUFdQtVBdqBDWLWkJtoYloLrQkWgNthnZB+6Nj0ZnofPRl9E10N/oZeh79E4PBsGBEMaqYPRhXTCDmIOYY5gKmAdOOGcK8xixjsVh2rCRWG2uNJWGjsJnY89ha7H3sMHYeu0pFTcVLpUBlQuVGFUqVRpVPdZWqjWqY6h3VOo4OJ4zTwFnjfHDxuFxcBa4FN4ibx63j6fGieG28Az4Qn4ovwNfju/HT+O/U1NQC1OrUttQU6kPUBdTXqB9Sz1KvERgIEgRDggchmnCCUEVoJzwnfCcSiSJEPaIbMYp4glhNfEB8SVylYaSRoTGj8aFJoSmiuUUzTPOZFkcrTKtPu582gTaf9jrtIO0iHY5OhM6QjkSXTFdEd4dunG6ZnpFent6aPoT+GP1V+j769wxYBhEGYwYfhgyGcoYHDK8ZkYyCjIaMZMZ0xgrGbsZ5JgyTKJMZUyBTDlMd0wDTEjMDsxKzE3MccxHzPeYZFiSLCIsZSzBLLksTyxjLL1ZuVn1WX9Ys1nrWYdYVNk42PTZftmy2BrZnbL/Y+diN2YPYT7LfZn/BgeKQ4LDliOW4yNHNscjJxKnJSebM5mzinORCcElw2XEd5Crn6uda5ubhNuUO5z7P/YB7kYeFR48nkOcMTxvPAi8jrw4vhfcM733eD3zMfPp8wXwFfF18S/xc/Hv4o/lL+Qf41wVEBRwF0gQaBF4I4gXVBP0Ezwh2Ci4J8QpZCSUK1QhNCuOE1YQDhM8J9wqviIiKOIscEbkt8l6UTdRMNEG0RnRajCimK3ZArExsVBwjriYeJH5B/KkEQkJZIkCiSGJQEiGpIkmRvCA5JIWWUpcKlSqTGpcmSOtLx0jXSM/KsMhYyqTJ3Jb5LCsk6yZ7UrZXdktOWS5YrkJuSp5B3lw+Tb5F/puChAJZoUhhVJGoaKKYotis+FVJUslX6aLShDKjspXyEeVO5U0VVZUIlXqVBVUhVS/VYtVxNSY1G7Vjag/V0eoG6inqreprGioaURpNGl80pTWDNK9qvtcS1fLVqtB6rS2gTdIu1Z7R4dPx0rmkM6PLr0vSLdOd0xPU89G7rPdOX1w/UL9W/7OBnEGEwU2DFUMNwyTDdiOkkalRttGAMYOxo3Gh8UsTARN/kxqTJVNl04Om7XvQeyz2nNwzbsZtRjarNlsyVzVPMu+yIFjYWxRazFlKWEZYtlghrMytTltN7xXeG7r3tjWwNrM+bf3CRtTmgM1dW4ytjW2R7Vs7ebtEu157RntP+6v2Px0MHHIdphzFHKMdO51onTycqp1WnI2cTznPuMi6JLk8duVwpbg2u2HdnNwuuy27G7ufdZ/3UPbI9BjbJ7ovbl/ffo79wfvvedJ6kjyve6G9nL2uem2QrEllpGVvM+9i7yWyIfkc+aOPns8ZnwVfbd9Tvu/8tP1O+b331/Y/7b8QoBuQH7BIMaQUUr4G7gksCVwJsg6qCtoOdg5uCKEK8Qq5E8oQGhTaFcYTFhc2FC4Znhk+c0DjwNkDSxEWEZcjoch9kc1RTHBw2B8tFn04ejZGJ6YoZjXWKfZ6HH1caFx/vER8Vvy7BJOEyoOog+SDnYn8iamJs0n6SaXJULJ3cmeKYEpGyvwh00NXUvGpQalP0uTSTqX9SHdOb8ngzjiU8fqw6eGaTJrMiMzxI5pHSo6ijlKODmQpZp3P2sr2yX6UI5eTn7NxjHzs0XH54wXHt0/4nRjIVcm9mIfJC80bO6l78sop+lMJp16ftjp96wzfmewzP856nu3LV8ovOYc/F31upsCyoPm80Pm88xuFAYXPigyKGoq5irOKVy74XBi+qHexvoS7JKfk1yXKpYlS09JbZSJl+eWY8pjytxVOFb2VapXVlzku51zerAqtmrlid6WrWrW6+irX1dwaRE10zUKtR+3TOqO65nrp+tIGloaca+Ba9LUPjV6NY00WTZ3X1a7X3xC+UXyT8Wb2LehW/K2l2wG3Z5pdm4fumN/pbNFsuXlX5m5VK39r0T3me7lt+LaMtu37CfeX28PbFzv8O153enZOPXB5MNpl2zXQbdH9sMek50Gvfu/9h9oPW/s0+u48Unt0+7HK41v9yv03nyg/uTmgMnBrUHWw+an605YhraG2Yd3hjhGjkZ5Rs9HHz/Y+GxpzHJsY9xifmfCZeP88+PnXyZjJ9alD0+jp7Bd0L/Jfcr0seyX+qmFGZeberNFs/5z93NRr8uuPbyLfbMxnvCW+zX/H+676vcL71gWThacf3D/Mfwz/uL6Y+Yn+U/Fnsc83vuh96V9yWZr/GvF1+9ux7+zfq34o/ehctll++TPk5/pK9ir76pU1tbXeX86/3q3HbmA3CjbFN1u2LLamt0O2t8NJEaTdUAAJV4SfHwDfquB43xXOHZ4CgKf5nVP8KUg4+EDAbydIBvqI6EJGooRRH9ClGE8sP3aKqgwXiFfAb1APEkqIUTR7acXpMHRz9N0MlxmzmMKYnViMWZ3ZQtgzOS5xtnANcy/y4viE+PUFvASThIqE74hMiv4S55TQkfSWSpeulhmU/S7PpqCrSFbKUW5UGVL9rE7UkNA00fLWTtYp1L2hN6D/zmDLiM1YxsTI1HlPkFmi+QmLi5b1Vvf29ltP2ry1/WEPORAcWZ24nHldBF1F3aTcFTw09hnut/B09CKTwryTycd9Snwb/br9JwOWAqmC+ILVQ+xDw8KywysPdES8jFyPZotRjnWIOxCfl9BwcDDxSzJdiuIhx9S4tOL0joy3mYQjikfdstKyq3NGjm2cEMm1zos/WXHqyekvZ2nz5c85FsSdLy7sKHp3gXhRucTjUnrp1bKh8pVKrsv6Vb5XjlRfudpb86Z2u56tQe6aaaNHU8T1rBsXb1671Xr7QXPPnQctd+/WtRbeS20j39drZ23/0HGnM/WBaReu61F3Zo9+z3rvjYdBfQJ9k49OPrbsJ/QPPckfcBvkGZx7WjHkNyw2vDBydTTwmcSzj2M140ETUhOfnjdMHphSmlqdbn2R+tLkFfHV6Ezh7P45gbmF1zffHJn3fKv9TvA93QL6A+IjfpHzk+pn9y9Hllq+/viu9CNuuW0Fu2q7Vvzr7YbMZvRWy/b2rv4FoWsIVyQ9sgnljsaj6zAucFTTQEXCseEe4zOoDQhowgPiYRozWhraCboy+mAGVUYs4wumfuYelnbWe2zN7Nc5rnHWclVxV/CU85bzlfGXCpQJVghVCVeL1Ik2it0Qb5HokOyWeiQ9LDMh+0LupfwLhWnFSaVx5WcqI6qDao/UuzU6NO9q3dCu06nQLdTL1U83iDUMNNpnvNdEz1R+D58ZnTkwX7KYtuy2qt172vqgjbetmZ2cPbsD5LDgOOx017nSJdc1wc3X3dpDa5/ofkZPyPOz1xSpz/s2udLntG+GX6p/WkA6JT0wLSg9OC0kPTQ9LC087UBaRFpkWlRq9KGYQ7EpcSnxyQlJBxMTE5MOJiekxB+Kg60jN70yo/XwaObHo8gsjmyFnD3HvI7HnjiWW5HXcvLpqbenN87S54ue0y6wPe9XmFh0srjiQsvFwZLXl1bKCOX8FSqV5pf3V0XAFlJ0tb6mo3a07l39r2uERp4m2ev6N+xukm9F3s5oPnOnEvZgXa0j9163fbj/tL2uI7vT/4FRF1/XRvdEz/XeEw8pfYaPuB/9fDzYX/UkZcBpUPop6unkUONw5ojHqPwz9LOpscbx7AnKc4tJhSneacYXtC8ZX/HPaM56zZ1+PTov9vbYe7CQ9VFg8cnnrCXbb2I/qJdXV76sfVj/tPl9V/+SoAuygCYQ7ohPyCDkKioNzYYuwyhjHsMR7SZVEU4HN4M/Qq1A/YqQQ9QiLtJcoLWjo6brpj/B4Mkoz4RiGmWuZIljtWLjZVtmf8RRyhnHZc0txgPxTPJe58vlDxQwERQU3ILjqGaRfNEoMRtxMfENiSHJSql4aSsZfpmvsh1yJ+W9FGQU1hQ7Yf9gr8KmMqVaokZSF1Cf1SjR3K/FqTWufVrHWpeoO6xXqE82kDL4bnjXKMPY0oTJZMq0HPYXCmZr5u0WRyytrVjgeKLMmmIjY/PDtsUuxd7YAe8w4HjSycGZ1XnS5aKrt5uY22f3Wx6H9pnvZ9n/Bo4DMkjO3lJkBHnS54Zvnl+Iv0WAJIWa8inwadCN4PyQ2FCXMI1wzvDNA68iOiLLozKjKTFWsfJxLHHr8XMJjw42JRYlHU4OT/E4ZJaqkiaYzpABZXw9/DZz/sjC0c9Z37J/5vw6tnUCkYvJw50knqI7zXSG9SxHPs85/gKh86KFEkXSxfIXlC6qlmhe0inVL7MoJ1ekVpZcbquavLJ6laVGqda2LqQ+u6HqWlfjTNPGDdabiresbwc2H75T2tJ6d6z1axvhvki7Xse+zoMPznXVd/f0vOj90Uf7SPaxY//hJ22DmKeeQ70jFqNzY8UTsZMJ05df4WZr35x7N/Qx+kvuD7212h39//62tFMwKgBU6sIOAb437MsAKG+F80w1+P6oBMCGCICDOkA4JADoZTOAXM//fX9AcOJJBejgjFMYKO5m+EEgDc4lb4Ih8AWiheQhBygBzgEfQcsIToQBIhBxGtGG+IBkQ5oiY5HVyGkUHcoElQTnZEtwHhYA517zGGFMAKYG8wWrjE3C9lDRUXlQVVOt4PbginHf8Gb4MvwmtRt1M4GNkEB4STQi1tKw0KTSfKH1pB2mM6G7R69C38ggw1DPKMt4nUmdqZPZgnmCxZ9llTWPTYKtm92bA4Kt1IBzniubW457jCeFV4x3hC+ZX5L/ucBRQXXBD0IXhG1FsCJtojFicmKL4tUS/pKikh+k6qQjZdRlEbL9cgXyPgqKikjFUaXLygkqNqoiqltq4+pNGic0g7TMtSV0CDqfdUf0mvUvGWQZRhl5GVuZGJrq7FE3UzKXt5CzlLOS36tgrWKjaatvZ2Zv7+DpGOKU5JznUuna6jbuvryPZb+GJ9nrBKnN+5uPmC/Z75L/KwpPIDmoLgSEuofdPyAdURklEX031jUek/AgMS85+JBHmnuGf2bG0drsF8fZcp1OFp0ePrtawFdoXZx5sauUqty2sqxq5ap9bVMDc2Pi9de3rJvv3hW/d74d35nYtdyb3Lfdf2BgeEhwhPQsd7z2+Z2pGy/KXh2adXjN8+bV28L31gvbH2s/uXxBLdV/c/mBWm5cIa0x/erbSN/S3/UfEEADasAE+IAs0Ie1HwKOgHLQAeYgNCQJ2UGJcPY/jsAg5OHcPgfRglhE8iIdkDnILuQWSgMVi7qNWkVrolPQ3RgixglTBmtdG3scO0OlRJVFNYvTxJ3HreHd8e3UotS51L8IAYQJojmxjUaFpoFWiraGTpquiV6DvovBlmGWMZKJiqmUWRPWdhycYT5ki2EXZp/gOM5pzLnFdZc7gUeTZ4u3i+8Yv5OAoMBXwQdC+cJBIoai3KK/xJ6L35W4KBkrZS0tIYOVeS/bJ1cvf0YhSZGi5KxsqqKuKqMmos6nwaXJocWpzasjrCutp6pvZOBg6GeUYJxrkmd6Zk+B2UXzKotGyzar/r0vrL/aou247FUdbB3DnfKcm1zGXDfdRT1s96Xsb/CcJTF7W5AP+9z3XffXDEik3A9CBVuGnA2dDZc7kBoxEiUG30hTcarx+QmriR5JD1KkDhWkYdJjMz5mko48z3LIHjpmc3w01zVv5hTljHa+SAFjIbJo7cK3ki+l38rXLqOuMF+VqDWq97l2pOnajVe36e/suZtxr7udutOh62LPqz6Wx8ZPAgaThjJGUp4FjBs+J072TUe/ZHpVNis0V/QGO+/3tu09ccH+w9mPA59Qn1W+eC8d+3rt2+j378sMP6VXTFdJawd/nVqv3ri/Obb1YVf/CPj0MwB++OybAx/45JeBHrAIMUP6UDhUBo0hCAhdRDSiDvEeKYL0RV5BLqIUUYmoh2gWtB/6DoYG44u5j+XEJsAxpw5VBY6IO4j7jCfjp6ldqMcJ7oQ5YghxgyaPVpy2h45CT09/jyGMUYRxlqmM2Z9FgWWTtZMtm92RQ5hjlXOAq5r7CA+F15pPjV9EgFWQIIQRRoqgRfFiTOL8EoqSFlIU6SyZOtlRuQ0FEUVbpWTlGpXnalTqqhq+mme1urWXdUX0XPRzDNoNfxpLmQSYXt3zyVzRIsmyby+bdaBNmx2TfYhDr5OQc5rLrJuhe+U+3P4wzzGSjne1D4tvut/3AF9KbxB/cFLIVJhWeGkENjIsairGLLYlXjqhPJEzKT+F8dDpNOb0wsMCmbVHVbN6cpyOfThxKI/9ZNNp/TN385XPNZ2XK7xerHKhtcTw0pMyt/KFyoQq4pXyq5o1Y3WRDQzXrjc5X9+6efm2TfNmS13r/jaG+30daQ+0un701D4MfqTSDz0ZGLwwRBlRHF0eq5/YN4maKn4h8rJihnU2dq7/Ddu8zdv0d5Xv7y88/jD48eHivU+lnzO/uCyJLf342vgt9Lvw96c/Di4LLd/76fRzaSV1Fbd6co1jregXw6/sdWg9fn1+w2rj5ib35uHNhS39rcKt79tW25d39B/pp6iwe31ABAMA0C+3t7+LAIA9BcDmye3t9bLt7c1yONmYBqA9+Pf/Fbt3DR0Axb07qKerOvw/fiP9Nx2UfoBnrfAcAAAACXBIWXMAAA9hAAAPYQGoP6dpAAAgAElEQVR4nO3dfXBcV50n/G+/d8u2JkowL3Eck9iT2AYaihSDYceGBh4gCaSBCS9JBASmVoRQG5TaKlKidjOUqJms2K1dy1UDMrM8YoeIBcTORoEtwYDiHflhx66MPE/kCTK2FCQYawZ5IllqSf1yb/fZP7rP1emj261uqV9ud38/VV1Wt7rbt6/O6fO7v/PmEkIIEBERERHVibveB0BERERErY0BKRERERHVFQNSIiIiIqorBqREREREVFcMSImIiIiorlooIDUxc+E8zp8/j5kl0+b3S7h4/jzOn78I219X2dJvLuLsuUtYrf1/TeD5r7TY3EWcP38eFy5ds/39/KULOH+2UF2shgRmLhQ+Hqqh1XmcO3sOv6nHF23Lc3Y7SK2thQJS4Mp3juHYsWM49EffwpL2u4unH0P42DEcOzYK01vKuyXw3Okv48unn0OiAsf26//5EE687WP4B0ZEJeL5d7LEb0Zx7Ngx3HXkPfjJfH7LZs79EPuO3IVjJ47hxZUaHVDsBfzru47hro//9011n2pr9fIw3nbibfjer2L1PpSW5OR2UDV/9tt4/PFTmKn0Gzeh6p2r6v197bRQQOrF+//jNLoB4Mwj6P3hjPUbc+6HCD/yNIAIxha+hL0lvZ+BK99/Ck99/R9gVODo2vZ9AG945/24oaQvAeL5d7a9x7+E8d4IgEnc/ei3sBF6zOM/3/dRAEDX8DTuO1CjE+7zYR8A3BYA/8R15gsAAAL+Oh9HS3J2O6h6+e//EidPPoN/qfQbN6Hqnavq/X3ttFBACsB7EL2TgwCAkx/9tzi7BADXrAaye/gv8K6SaqEJ04whCQA3JRBLmDBzSaBELAaZD1qan8GlmWvW/djSNczNzWFubg7XlvKvNw7f34sLP3sSh4P6+8Qwc+kS5ubmMH+tOS4VzUQMsYRNf5CZQCyWwNY9RYXOv4lYLHeOzBjmLl3CfGzj3Xj+a+t4z1+gBwBGHsGTz84BAC6efgJPTAKIDuI/3X+wpPdJxGKwLy56OUpg6do8ZmZmMDc3jxi7HBVmGeex0FuYiCnfb+p7x/T3TsQwPzeX/VvML5VQp6lmatAOZiVwbW4Gly7NYO6afTY8Juvr/DxiifzXXk8AQDtSsQTMUspnAzLNRIE6Jb/3SvncW5yrxFK23ZuZg30TlsC1+XnMz89hPq+ubvX3rQLRgsb7IgKACHcPibHBLgFAoHNQrJT4+pWJ/uxrlFu475wQKxMiAoho35AY6A7nftcnFuPTor8zvOk1kZ4R6/+cOPlOAbxTTMSEEPEJEQUEunpFTzT/NZ3948KozmmpkVnRAwggIs4t5v9mvDd7jgYmi/8lCp3/ycGoAKJi9NyI6Mw93ntuUQie/7pZmRzMnbsuMTo+JCK5v/3YQolvsDAqwoBApF/kFRf5NwpnH1+cHM7e1259Y7PW8zsBgehAyfW8mcSncn+HziERV39hTItuQAA9YnaL95ga6szWgaGpvMcXxnsFABEdnBRCGOLcQPemvwPC3eLcQrbmxCa/IQCIkxOLNv8L1UrV2kEhxMrUxnew9X3bPSisar8yKXqjm+tr78iUEPGJ3PeEetPqf5OY6I8KAKJ79Gre4yuTA9lz1jdR/A2KnitDTAz1bD7Hwxv1d+HcoM3ru8TYVaPo37daWjIgFWJW9ITVEx0V42WUduPqOdHf15trAKOit69PDI1f3Wj05B8v2il6+v9ajPRkg6FIV58YGRsXo0P9ViEYnMpW/8lv3CeA+6yAyHqfcKcYHBkTY8MbrxmZbeyQaHIg27B1jyhNoDElugAB9IqrhV+afWqB8y/fV96ind1idDomRnn+6+pcXzTv79IzslXoo1oUA1EIICxGr26c94Xxvo3gyCo7YdHdPyTGxsfEYG+uLIT7sl/OLR6QCnFV9IWzFwPqd93KRLbhi/aX0NAsjNlcHBhipDts/X1kQ4pwpxgYHhXjY8OiJxrOa1wZkDpFldrBhXHru7K7f1iMjQ2L7kiuTewZE4YwxFjed/KYGO6XFzERcW7hqhgZ6BNd4Vyd7usT/YPj+RdSTcKYHs5+7mj+hcBYb/ZiYWhqi09tFD5XsyPd1t91YGRMjA71ZusvIPonFoWIT1rtXM/AsBgbGxF9XRHreBYL/X2rqEUD0vyru3D/5DbewRCDUQhEBjcqihLI9I5Oy/9JDEQggO68DMT0UNdGwRCbA6KozRfE9HD+axqWzHopwYH8e3QOlvq32Hz+NwLSLjG+IIMXnv+6MyatL0JEyg8I5RfrRmZOBkG5TOtitgEM944rr4rn/u5RcW5FMCAVG+W3a3jaekwGBqVdZK2IwU7t4kA2arnzOjmYrYMDk0pDGj+X7TnqZ0DqNNVoB2Uw1T+udoMsiP6o7BmT5QhieHqj3E0NdgsgKkZm47n7nQKIismmvv6XF9xKr5G8wA73iVI7kjadK6vno0uoVVHMDme/izuHRHxlo53b+EZYFAOdYSVTbhPnVFFrjSG1JPDT73zLujf5rWcwV/Z7xHP/Jq2fAGQnb0QH0f1+OT5uDz73nICx8iRw6SKe+8kPcfqrj+MjD31z6/+iqxNv69i4u+/Ot5V9lI609514ohPAyNfxi9wM7F/88FsAwvjMvW8o8U3szz8AdA9/Ccf3yqkrPP/1Nj/+DCblnTNfx48ulTcW90DkE4gCePq//nV2VnBiCsMnJ4HOT+HtewF0HMdzwsD/98hBXLpwFs/+8Nv46uc+gUfOZF/vq9gnaWwH3/dZRAF88+v/K3sezUv4/lOTQHQAkZIml+3Bez/TC2ASQ/97GgCw9PwongbQ/dn3Yw+ANzz8HQgjjo/cdBUXzv4E3z39NXzynmM4U60PRTtQjXYwhisT2b/28//7r3D69CmcOnUKp7/9V3h+BADO4PyvTYTfEgEAfPSQD+/63Jdx+rs/gRF5EkI8g/sOZAfyG8nsuFND/4JvKh344CM9AM7g+z+7BABYmvxrfBNA17//oxInltmcq/i/4NcAgN/hzPdO49SpUzh16jS+/ZML2e/iyX/AVd9NOAoAGMEh1xvxua+ewg+fu4wPfn0C4jsPY0/2jXJvuLmdrYoaBL2Oc3W0x+pW6sqNY4mUPTZiJXfloGRccpm16ED+leb0aN9GhijXLREJIy/bZpeh099Hdoc1Q4Zu8Vyuy3VwWggxnb0i1Me3FbX5/MsMqT4Glee/jhbP5a7Cw6KrS3bdbz1eMZ/SLbwgRDyX1emxxl0tiKGe/GEBYasrslNMMEOaY4jR3Nj2kbzzWMZfQ2ZEI/1iRYjc++Wy0EKI+NVx0Z3XDQyrrjFD6izVaQfjYrhr83h99Zb9/lwR44O9IqqVFUR6RW4UlZgcyM4JmGj2CqvVqWyvRaSs4RObztXCuO2YerUNPLcihFicFAM9XVr7CNHZP5abK2ET51RR62VIl87i0bufAgAMfn8QpwfHEAFw5oljOH1xe+vi6RPPVpLKAgmJC/i3dz+BSUQwOD6FxXgcQjyHkcH+Ld83732aTMdb/wjdAJ7+y5/j4vmf45sAerv+HwS38V76+U8ayiM8/3UUw3cfO4YRAJG+b+L06e9hIAoAT+EzXztbxvt4cfyTfwxgEj/9m4v4Pz9/BkAn7n/nzQCAuWf/DA89NYJwZx/OzS4gbgi88IKBoc7sMZDkxb/67KMAgP/1s/PKeTxQ+lsE34DP9ISBM8/gFzMX8NOTk0DXZ3HXHgCI4XuPnsDJSaCrfxSziyswhMBzL0yhE0CtlpylElStHYzj5SuTACIYX4jDiMcRj68gHo9j8eospqam8clwB2JLCbz+E/8ez7wgsLJ4FZPjw+iJhoEzT+LRwQsV+pANIvgGdPVFgDPfwpmL5/GjpyaBru683rny3zO7plq4ewQrwkB8JZ69xVdwdXoK07P/A3ftSWDJvAV//Gen8YKIY+HqNMaG+hAB8PQX341vaeWgFusctFhAGsN3HzuBEQDR/nN4+LAX6HgXvj7UBQB4JPwkZrZx1ot1diVmJzECAN3/Dg8fP4yOYBDANXy394sAgIAvVP5/2BQO4pMDncCZRxA+9giALnz0baV2UOTj+XemuWefwkNPA0AvBr/0VgBBfO7rowgDOPPECZy+UPoS9R1vvhfdAE5+NIx3P3EG4Z6H8Obc1cvK4joA4I8ffwxvPbAXQS9gzv0cP3gaAPaAf+INe97wQfSGgW8+dCx3Hj9jncdSveWBRwGcwd2H7sJJAH2fPW7VwSQAIILPPvp+HOjYAy+AS989jacBtAc4eMIZqtkOduAtH4oCOIPRv5mFNxhEMLgHwSAw+sRrceTIIfz90jWcvPGVuDH0OGZMYE/HzXjD8fvR+x+yF0vtee/669ySRs3tbX/0KIBJRMPHcBJA/+eOb2O9ZOVc7Xk1jgKYPPn/4vl5ILgnmL0Zv8Sjh47g0Gd+gGsX/xtufOWN8H35JwCC2HvzQbzrwS+hvz8KAEiu5xeCmqzfXIMsrGPMjsguil6ty3BR9OfNAiyFnCwDEe3sFP2j01ZXb6RfWarBmiAD0dU7IIYG+0Wn0k0R6R4UV42NLuO/VbqM895HNGGXsZzctM2uIv38yy77vPPD818fykxbfaboVG5CGdAttppEqpJLpAAQA0o/npysA0RF3+CQGOzPX3aoZ2hCGHIAf2SgKZePKcf08Mb5GdxiiTV76uzsbrExLyXXvQeIcGePGBwaEn1dG3+zcKRLjEwussu+zqreDi5u1P1od58YGh4SPXLZveiQWFGGjiDcKfoHBsXgQO/G93Ru8qJV3yNR0d032uRDbeTkpu0MabI/V7NySAbCoqd/UAwN9lnnuHtkVlmdBCLS1SsGh4ZEf6/8Lo2I7Jw0m79vFbVOQGotcRC2XUrBmB3ZaECnS2sl1bGJ0YEJa5xadCA/kJka7s0foxHuEoODvVZhObcixOQ3OrPj3WIbx6q/j1zTcaBpBtVsNGDDJZ5zlX7+ZaCjN7I8/7UnG5zOAbt19OSM283jdIsxZkeyf8dNDemCGOzOH0Ma6e4Xg725x8L9YiU+aY1Tbvm/3sKIFZBsdxEXOZtev5CMz47llqCBVb96B4dET65Ri/RPiFiuHn1jIrbzz0LlqUU7KISIT49ZSz1t1MkBa3yoMGY31VkAontgY3knY0EZj9wCF5JyTK/e7pSi0LmaGtHnT4RFj7KE1sr0qOjS/k4Id4qhiY35/XZ/32pxCSFEGQnVlhC7No/FdcBn18NkGEDbjbh5757y3tRMYCkWB+BFR0f2tWZsCUumF3s7ynyvZmFewuO+IzgZ6cfic49BDpnh+W8dlfxbm4lYdqeuYAc69nhz738NpnKfgNiFU2i/64voHJrCdx48nHs0gfm538Hw+WxXJTAMA2037sPeEs9jLLaERALY09GBoBeAGcO1JRN79nZsa5w41V4l6mYitoRYwoS3UB00E4jF4jC9XuwJ7YG3havpc199F9795MsYvTqB99+cPRFmYglXf7cCn/0fAYbhw6sO3LxFnTKxtLQE0/Ru1Ef9GYkYYnETXm8Ie/bUsYZWNdxtSCuiX5/5p9/CzblrRM0YC2JyYkIM5zJY+bN8ef5bB//WtbQyOykmJkZzmRRtFu/KuU0zbfWbPoSFmhnrZm0YYnpiQpwbya0Hq600k509X+zvELZWuGgGO8qQ6i/dwVtRk3C5XEXvAwBi5+FqP5b9OdKPheceK3m9NSLanvNfdeHYk9mfOwcn8Z2HS13zl3Rs+0intnW27Z6tJXzNdSOeAACEMTJ9HvcdzGYo61HGSmq/q/n/lxqQyqcV+tfuudQa7AqtfEyvpNn7MVw8+zyu+2/G6+86jI4SummcVKaqVUmd9BnJ2bZTBmPzl/D/X7qGXTcfxJsP3+yo8lbrhq9cIjvfwvpZfVx/HrWOUtq+jXbP3vzF87h0Hbj1zjBuf0UAQPEyVuixnSj1cxR6bsWOY6uAVK+I+g0A0ul01Q6QGo+sgG632/pZrZRbVVDAvkKqZa7Y83eqUOUsFGRvl11jVuhCjw1daylUrnZSDgvVKf13ds/fqULH53a7N/3eScGp3tYJIZDJZGzbQSJZnt1ud17Z1ttAlV2MlclkkMlkNv2+FmTbbfdzsc9RCUVzU3YBaCaTgWmamJmZQTKZLBikUmuRBVQtvIFAAAcPHoTX64XL5YLH49my4VHLj/zi13+W9/XnV5pe8QoF2PK5pdIDA1mvABT8EmK9ak2Fsi3qze12W+WjlDolH3NanZL31efWk1o31bbvpZdeQjweZ12lTWVZ/hsIBHDo0CF4PB6r3VPrq6SXsXQ6jUwmg5deegnr6+s1KWN6PfN4PABgtd8+ny/v2OX3jfo5KqXkgDSdTkMIgVQqhQ9+8IMYHx+v+MFQ8zlx4gSeffZZ+P3ZnSNkYZfUylDsAmh6etq6AALys/LVaAD0AEB+yRw8eND6gpGBdjldGYWuhNPpNF566SUkEgnbANXuPag52Y3jUm/BYBC33367Vf6EEHmBqV6ngI1yJOuNmlRQA9NqNHx2F24yEFXrlNrAeTyeTZ+llvT6KYSAYRi45557cPZsObuMUas6fvw4fvzjH8Pv928K5mS9VcuYbOvuvfdex8RXx48fx8jICHw+H3w+nxUHVq1+igIymYxIp9MilUqJRCIh1tfXxfLyspiYmNhi1hdvvOXfnn/+eXH9+nWxtrYmEomESKVSwjRNkU6n88pcOp0WpmkKwzBEIpEQ8XhcLC8vixMnTtT9M8jb8ePHxdLSklhbWxPxeFwkk0nrs2QymULVaVO9Mk1TpFIpEY/HRSwWc9Rn5M35txMnToiVlRWxvr4uksmkMAxDmKYpMplMXjnMZDLCNE1hmqZIJpMikUiIlZUVR5W348ePi+XlZbG+vi4SiYQwDEMYhrHps9RSOp0WhmGIZDIp4vG4WFlZYdvHW9m3v/u7v9tUtk3TtMqY3g44sYz97d/+rbh+/bpYXl4W8Xjc+hyltnnlKJhzFdpYGcMwkE6nsbq6WuglRLbW1taQTqetMqSOj5GEkqFJp9PW869cueKYq0UAOHv2LC5fvrzpswhR2nAVoVwVp9NpmKbpuM9Izjc+Po7Lly/DNE2YppnXrSypZVLWKSeWN7VOmaZpZWHqNTdBaNliWdfX1tbqcjzUuFZXV622TG0r1B4w+XvTNB1ZxtbX15FIJJDJZJBKpQCgrDavHCV12csvvFQqZR2QNHKqEwf331jRg6LGNvPbRUQfe9q6n0wmkUwmrW572fUoy5f6swzyZOPpxAq6traWN34aKG2ilqR+vnQ6jfX19WoeLjWptbU1mObGftNer3fTkBj14ieTycAwDEeWN1mn5HeE/CyZTGbTZ6o2oXSjymDUtu372EdxsKOjwLtQK5pZWkL0B8PWfcMwkEgkEAwG84arZDIZuFwu60JRljHDMPLerx5lTP8MyWTSKvuBQACmacLr9ValbtoGpHoWJ51OW0GFXikP3XoTjh58ZUUPihqbHpglEgkkEglrHE06nc6rlPL56jg30zTtK2gdLoDsAmzDMDaNHfX5fEXH1ahjhdQrY71OPfNXD+Pg7TdV6dNQo5p56WV86CPftu6rQZLL5dpUn9TvcRlc2QVW9Shv+mdJJpNWcG03YavWY0nVC2TDMOzbvhs7cHQvV1CmDXox1dsKtd2T7Z1pmjAMw7YtqEcZ0z+D2n7rt5plSNWuHnmykskkEolERQ+Aml8ikUAqlbImA7nd7rxJDHYXQLJyJpPJvPeqxwVQoQBb/k5+HjXjW4j8nOoX0KbPePAVOHr0VZX/INTQ9HIlkwTq79UZ93q9ksHopkavDuXNrk7F43EEg8G8Wcn1CEj1nkG1/SMqh2wr3G63lVVMp9NWeyHLmGmam+qzU8gue7WtU9u7StbPLTOkdkECUTlkRfN4PNZMPVm29JS/rJyyq8OJFVT9kpGV0zTNvLXn7Oh1SjZyTvyM5Hx6z4O8yJNLrAH5w0PUeuU08XgciUQi7zOo2aRak9lRec7sMqREW1ETD16v17qpw9PUMqb3CDpBMplEPB6Hz+ezuuvT6bT1OSqp6EJS+tW17EYlKoesbLLy2S0zo1/8yAbUicGabJxknZCTL+yWaJL0SVvyXNhlrIhKoZfBYvVKDUad2OjJi89kMml9B+jrpNaCmvWRdVVObHLieSNnk3VUTcLoi96r5d2JbYEcTiOH0BVbknCntpxlr84Mc2oET84mC3EqlcorVzr5O3VMjRPLm2w81ZUDZFBarAG1m2EvZ1cSlUt+H+sz7YH8CyB9nUMnXuSpwbX8LGrbU0v6LGj5/eXE7yJyNtk+yHKt1kf9wkeWf6fRL3zV9g4o3uaVq2hAql9hy4aUqByyy0KWIyA/EyHvq4/LANaJjYDa/ak3mltVTj0odWrQTc6nXrSpM+n1HZf0LKlTGz35WWSDV2qdqga74TXVyAhRc1Prpx4/6RNc5ZhSp1G/N+yC6Uracu8nNYKXkT5ROdSCrDc2kl23vRrAOokaYKuN/1YNlv4FpF45E5VLzSYW6rLXl1Nzcp1SMzDVavBKZTeUyInnjZxNzSjqw7bkz2q9dGLCT++10L9bKqloQKp2W8gTV68vCGpcaoMJoGDmQy3k+mucRH5xFBq7Vwq9G5WoXHoZBLCpkVC/t2XD4uRGTx9rV+8sqR6YEpVDLceF2j/5uFPbO7UtrvbF4pYZUv3AGJBSuezGzRR6nr78kxMbT/0CrZwKqo9PY0NH26XvFGZXjuySCk4sb/pEJqe0M3o9JyqHnsjT655dj4bT6EFoNY+zpIBUPQAnfpmRs+lXhqVyagXVu0i3UyecHiCQ89mN5dpqUp1T5wHYjacD6pMZLcRJx0KNoZy5BaU8r55qcWy2Aane5ePkk0TOZ1d+SrnacnLZq8RxOfmqmBpDqRMMGqGsOeHYigUGvHCkndIvHhs5EK17l73Tv9DIuYoFoHaV0snlrNjYV9YRqpVCS6fZjSN1OiddmDba9xE5l127UKh+OrWMldMLs1MlzbInqiW1oXVi+dvOMRVr3Jz4GalxFOqBUH92enClN3b62Lt6HhMR1bHLnoi21ixjYqk1sPwRkZMxICUiIiKiumJASkRERER1xYCUiIiIiOqKASkRERER1RUDUiIiIiKqKwakRERERFRXDEiJiIiIqK4YkBIRERFRXTEgJSIiIqK6YkBKRERERHXFgJSIiIiI6ooBKVGNuFwu60a0U+WUI7XsObH8FTomJx4rEVUHA1IioiZhF3Q2UlBnd9xODaKJqLK89T4AolZQrEF1u/OvC2deernah0MNSC8XxTKeLpcLQgjrZ/Xxrd63Fgp9lkL3iaj5MSAlqhOXywW3270pII1+eLBOR0SNRpafUgI4NeOockJ5Uz8Dg1Gi1sQue6Iakg2tbIDdbje8Xl4XUvkCgcCWQZxdefP7/bU+1C35/X54PB7rGCUGpkStgwEpUY3J4MHtdsPj8WD//v04evRovQ+LGsjhw4exb98+K4jzeDwANg//AJBX1txuN2655RYcOXKk1odc0B133IGbb77ZujiTx8tglKi1MDVDVCNqIKoGCH6/H1/5yldw5coVLC8vY21tDYlEAslkEqlUCqZpwjRNALDGBVJzU4NIn8+HQCCAYDCItrY2tLe34+DBg/D7/fB6vXlBqd4trw4JkQGfz+fbsryl0+mKljWXywWv1wuv1wu/349AIIBQKIT29nbcfvvt1meRN/X4iag1MCAlqjEZJMgAwev1IhgM4tZbb0UsFsPa2hrW19etIMEwDGQyGQghGJC2CHU4h8/nQzAYRDAYxO7du7F7926EQiH4fD6r/KhjMO26vOVzvF4vAoEAAoEAbr31VqysrGB9fd0qb2pAmslkKvZZZMCsBtehUAi7d+9GMBhEIBCA3++3PofH47GyvurnIKLmxYCUqEbUYEENRv1+P4LBoBUMCCGsjJLf77cCBIAZ0lYhgzgZkPr9foRCIYRCISs4DQQCVlAqs+3ytep7yMypfC8ZFIZCIWQyGatc+nw+JJNJZDKZimfk5XGoAXFbW5t1Uz+LzJAyS0rUWhiQEtWI2g0rG2fZfRkMBq1gVGaSUqkUUqkU0ul0RTNW5Hx6l73azS2DuGAwmNfVLZ8vXw9sTGayC0Zlt7z8fSAQsMpbJpOpSoa0WIDt9/s3BaVqlpSImhsDUqIaULNWajAqg00ZHHg8HitjahiGNX5UdtlT65ABpgzQZGZRjiWV3dxqUKrOuJflRV4AyWBUBpzy/QOBABKJBEzTtMpcpYeHyKBXZmLlMBXZda8H2OoEJyJqDQxIiWpIzxYFAgGr8bcLRuX4UQakrUed+CaDODWjHgqF8rq67dYklRnGdDptZSdDoRCAjSDRMAwYhoFUKoVMJmMFrJUOSNVx0zIbqo6P1T8P1yQlco5a1EMGpEQ1IsfCeTweCCGQyWTg8/kAbGROZVd9Op22MqN6dz0D0+amZtPVIR6yfMhMpwxO1TGkakAqu+MB2K51Ky+A1GEhajCqlrOdlDl1spV6MaZ23+td9vLz6JO0aqlRt18lZ9EvrPQejEIbVjhFoeOqxvEyICWqEfWLSQYIevAhgwwZjMqAlFqTuiKDGsipY0LlfTl5SS1TMvMOwAoy7Wa9y2AUgDWhqdL0Jc/UzyO76vVsb60V22iAk6uoXHoZsgtM7Z7nJHYBdbUwICWqIdkoZzKZvAkospFW14BUM6Oc0NR61IZAlg95MSODSRnY6Vtvqq+XP8uLIPlcfXyyLHfVGB6iB3r6Z1H/VT+rk4JAvSGeWVqq05GQU+llotTgrdBFUD3KWD3LNQNSohrTG1mZDZLj/GRAoAYG+r/U3PTGSd2JSR2LqXZr2+1upI4lzWQy8Hq9VpZUZuQLBaKVnNhkt4yTGnTKwFoNVp2wW5N6QaDX2/u+P1yno6JGoZedQmXC+LMAACAASURBVBdYhbKPTihjas9Ltcd1MyAlqiHZjap+Qcm1IOXYUpmtkhiEtjZ9hQYgf2/6Yg2Fel+98JFd42ogWouNF/TsrR5Qq5/NKcGobJD9fn9dj4caj9zsQS3fdnUA2BjT7TQ+n8+6ANaD00pjQEpUY3qmSH4pqQGBOgmF2dHWVCzA1DMuxRoHfRKFVCgIrVZ507NDdkMLnJAVlfQhBrfccguOHj2KX/7yl/U+NGoAR44cwS233LKp90Ktj/q46v379+N1r3sdXnzxxToffdYdd9yBffv2wefzlXQBvFMMSInqRO+msQsEGIRSsYkR23kfdbF5fWxyLcqbeuxOyITa0bvqZUa5t7cXV65cwfXr17G2tpa3vW+lt1wlZ5MXKuoSfn6/H21tbfi93/s9HD582FrGzC5Lqo8Pl+Wst7cXly9fxvXr17G+vo54PL6pjFV6OI2+gkcwGER7ezte+9rXblpajhlSohbQCDMuqbk4adKQU6jd9LKhdrvd1g5X+/fvR0dHB9bX17G6umrtqJZKpTYNt6HmpWY21d3Hdu3ahd27dyMYDOZNPNQDOvkeajmT73HgwAGrjMXjccTjcRiGgWQyWfGJhzIYVrexDoVC2L17N9ra2jbtBif/BSp/QcmAlIiIKEfNAMlxc+rWrTLwlIGGDEbVTSyo+akZUn173127dm3aEldfLUPOJVCXcpMBYVtbm1XG5HJocqOUSmdI5fHIz6Bu67tr1668DSvkmNhqrYDBgJSIiAj5vRMej8da+cLv98MwDASDQSsDKoMIuctVoU0FqDnpGz3IgFQNSuV9dcMH+Vo5hlTfSloGnWrmNBgM5u3cV6kypgaWMpsbDAatzyC39VU/gzq5qdJB6ZYBKbsPiYioVegTTXw+n5X5lNlPr9eLZDKJRCJhrecqA1JmSFuDOuFN3ahC7bqX2UW1y1ud4CSX+VPLmMyAqhlTu22kKzmGVM/UykBaZmtlkKrvoiZfXyllZ0gZoNJ2sNwQUaOQwagMFtTG3+VyIRAIIJVKIRQK5W3zW41NBci59J3H5HhLGZTKLns1mFOzpHKDFHX9afk72eUvM6bywqfSGXi1C14doqJu6ysDUvn59KC0UmwD0kKzIBlU0Hboy11stciuXv6chvWBqHnp4/uEEHnrQ3o8HqubXt/il931rUNdtULNlKrd7DKok7/Tl21Tt/VVybHJfr8/L/uubutbqXKmLiGnBqUy6ysDUXWCVl1n2euzwlQzv3254gdFjU0vE1sFcPrvnX4RVGgZnmouh0FEtaEuxyOEgM/nA5Bd5FyfyKIGohw/2lr0mfJqplSdpKQGo2pmUV70yB3U1PeTQaE6DES94KlkGVPLu54pVTOm6ueo1uYVZXXZ2x3Aff/m6YoeEDWfQjtVbMXuefW4ALL7Pxl0EjUvPQEjl35SJ5qowYIaJDAgbR1q4kRt59RgTm5yIoM5PY7yer15S4WpQaE6Uc5ua99KfgYgv61Wl3jSg+pqJYyKBqT6Vm5y4VaicshUv14ZtyrMdmNUnHABpG/byLUciZqLmsHS67rMVMkgQs1aMRhtPfquaXYZU7WdsGv/ZOZUvl6WL31b32qVMX2hfvmYumh/tXdpAkqcZa+Oj9i/fz+OHDmCqampih8MNZ/Dhw9j//79ed0V6hWWSq0QsvA7cW9f2X1RiwpKRPUhAwNJ/f7aKmPFwLT5FUqs6Bcx6mPF5ksAsCbQZTKZTdtJA5UvY4Xma6iBqd3uTDUPSPVxBTJ16/P58Cd/8ieYnp7G8vIy1tfXkUgkrMWB1a2tqPnJcqIueyGXimhvb8ftt99uLbYrn6e+zm4CnTpOy2n7R995553Yt2+f7c4bDEiJmovaAOtd8gxGqVBQatcTWGwOhSxfcm1S2QbWoowVC0rtHqtmO7dll706ZkAGFm1tbbj11luxurqK1dVVJBIJJBIJGIYBwzBafvu0ubk5TE9P49ChQzhw4EC9D6eq1PKhLgqsbz3mdrutoLTQlaJ6ESQD0kAggK985Su4cuUKlpeXsba2hmQymbe3r1wKo1LUQd0+n8/6PPrevjLAZpa0vn7605/iBz/4AT72sY/hfe97X70Ph5qM3jAz4CxNq9fLctsCtf1wUhmrZZvmEjafXM7okgFmIpFAPB7H2toaVldXsby8jJWVlbx9VmWQkE6nWzpDGo/HcerUKaTTaXg8Hnzxi19EMBis92FVjdoVr26f1tbWZu3p297ejhtuuMHa9UGuayazqgCs8pZMJhGPx7G+vo719XVcv34dy8vLWF5exurqKtbW1rC+vm4FpHIbv0otRq0GxXINNrlAcHt7O3bt2oWOjg60t7ejvb3d+pwyGJezK6k2lpaW8JrXvAbJZBKBQAD//M//jBtuuKHeh0XU0lgvaTsKrkMqAw3TNDetSRUKhawxDvJ36gKurbwemwzKAVjbfzVzRVQzmnKHB7kosAxMQ6GQVXZkwGY3GUidXSgnQslAr62tLa/Mya385ILBlZxxqM6klcctP4dc6DgYDOZ12+sD26k2/umf/gnJZBJAtu7Nz883dX0jagSsl7QdRceQArAWBk6n0wgGg3nZKBkwJJPJTVtbAc5KO9dKKpXKu9/R0YG9e/fW6WiqS1/yQt3hQd92TC4SLJdPkQsCy9frM1ll2Uqn01YWFIAVrMoxy3Kx4EoGpHIIgnoRJj/P7t27NwXY1drXl4iIqFUUzZDKBtY0Tfj9/rysp8fjQTAYRCqVssby6euytaL19fW8+x0dHXjFK15Rp6OpDXXim7qQruy+l9lSfacHfT9c+R7qkhfpdBq7d++2fifLXCqVqnh2VNLHscrPEQwGrfGkoVDICr5lVpeIiIi2p2grqmZJAWzaPk1mieT4PxmwtnJAev369bz77e3t6OjoqNPRVJ8+GUndr1fdD1f+XGxNUpmdTKfTCAQCAGDNOpRbqckLIDUYrfSYZX3dXbfbnbd9WltbmxVgyyyqmlklIiKi8hTtstfXYZOPy2yV3GdVBgZqcNCqAenu3bs33W9vb6/T0VSfGlCqC+iqu1QEAoG8nSvUMZf6e6lZUrsLIDkJSg4P0Sc07aTc6ctbyMBaHdeqDklQhyBwlj0REdH2FQ1I5U4VktvtRiqVQjAYzOuiV/fylRiQbtxvhYBU/qwGpuqkH7vAzW4hXlnm/H4/UqmUlSnNZDLWGqfqBVA1MvLqcBX9s6g3dQgCx48SERFtX0ld9jKQyGQyCAQCm3YRUIPRVs6OAkAoFNp0f9euXXU6mtrRJybpwanapV0oIFUvgGRZkxdA6XQaXq/XGqNslx2t5udRs74ulytvchazo0RERDtTUkAqf1aDBjVw4I4VG/StLuUSQc2q0C4PamBqN3nJLnhTL4AAWN32MguvljV93Gg1dq7Qj1UGpXr2lAEpERHRzpS8l71s8NWgVAhhLd+jBwStGIwCsMY4qveduB97JRUKSvUdTrYK2uTvM5lM3n7R+pJKamBarXJmdzEGbA609d8TERFR+Upeq0ZvdKsdEDQqffmfVt25p1CQWgp5saOWOXV4iD5esxrLPtk9Vm6ATURERKXZdqSkN86UpQdLhWaUU3F25aseWXi9fLO8ExERVV7rpe6oYTE4JCIiak5M3RERERFRXTEgrTB9iadWWPKJqF5Y34ich/WStoMBaYUdOHAAn//857F79258/vOfx4EDB+p9SERNi/WNyHlYL2k7XILT5ImIiIiojpghJSIiIqK6YkBKRERERHXFgJSIiIiI6ooBKRERERHVFQNSIiIiIqorBqREREREVFcMSImIiIiorhiQEhEREVFdMSAlIiIiorpiQFoFX/jCF9De3o4vfOEL9T4UoqbH+kbkPKyXVC5uHVphc3NzeO1rX2vdn52d5T6+RFXC+kbkPKyXtB3MkFbY2tpa0ftEVDmsb0TOw3pJ2+Gt9wE0sjNnzsAwjLzH5ubm8u7/4he/wD/+4z/mPfaOd7wDgUCg6sdH1EyuXr2KF198Me+xUurbq1/9aoTD4aofH1Er+vnPf45MJpP3WCn18l3vehe8XoYgtIFd9jvwoQ99CCMjI2W95rbbbsPMzAxcLleVjoqoOV2+fBl33nln2a/78z//czz66KNVOCIies973oOxsbGyXvP6178eFy9erNIRUaNil/0OPPzww2W/5tOf/jSDUaJtuOOOO/D2t7+9rNcEAgE88MADVToiItpOO7id11DzY0C6A/feey/27t1b8vNdLhc+/elPV/GIiJpbuQ1ZNBpFR0dHdQ6GiPCRj3wEe/bsKfn5Xq8XnZ2dVTwialQMSHfA5/PhoYceKvn573jHO/JmHhJReT7+8Y8jFAqV/HxmYoiqq62tDR/72MdKfv7dd9+NV73qVVU8ImpUDEh3qJwGj40j0c60t7fjwx/+cEnPfc1rXoP3vve9VT4iImI7SJXAgHSH3vjGN+JNb3rTls/bvXs37r///hocEVFzK7VB++QnPwmPx1PdgyEi/OEf/iEOHTq05fNuuukmfOADH6jBEVEjYkBaAaU0kPfffz927dpV/YMhanLvfve7ccstt2z5PI7XJqqdUurbgw8+CL/fX4OjoUbEgLQCHnzwQfh8vqLPYTcFUWW43W586lOfKvqcP/iDP8DRo0drdERE9KlPfQpud/GQgheJVAwD0grYu3cv7r333oK/v+2223DixIkaHhFRc9uqYeMFIFFt3XrrrYhEIgV///rXvx533XVXDY+IGg0D0gop1kBy7VGiyiq2JmkgEMAnPvGJGh8RERW7EORFIm2FAWmFFFqTlGuPElVHoQaOa48S1UehNUm59iiVggFphfh8Pjz44IObHufao0TVUWhNUl4AEtVHoTVJ3//+93PtUdoSA9IKssvYsJuCqDrs1iR9zWteg/e97311OiIiYjtI28WAtILe9KY34Y1vfKN1n2uPElWX3tB1dnZy7VGiOtLXJL3pppvwwQ9+sI5HRI2CAWmFqQ0k1x4lqi59TVJmYojqTx0288ADD3DtUSoJA9IKe+ihh6w1Sdk4ElWXuibpW97yFq49SuQA6pqkbAepVAxIK2zv3r245557uPYoUY3IbAwbPiJnkGuScu1RKoe33gfQjB5++GG88MILXHuUqAbuuOMORCIRPPDAA/U+FCLKefjhh/G73/2u3odBDcQlhBD1PohmYxgGFhYWsG/fvnofClFLmJ2d5fJqRA6yvr6O1dVVvPKVr6z3oVCDYEBKRERERHXFMaREREREVFcMSImIiIiorhiQEhEREVFdMSAlIiIiorpiQEpEREREddVQAWls7iLOnz+PC5eu2f5+/tIFnD97HjNLZo2PDMDqPM6dPYff1OP/JnIY59XVBGYuFD4eombgvHpHVLqGCkgTvxnFsWPHcNeR9+An8/kVypz7IfYduQvHThzDiyulvd/82W/j8cdPYSax82Nbvfw03nbibfjer2I7fzOiBlfpurpjsRfwr+86hrs+/t+xVKP/kqjWnNxG5h3LtfP42uOP49tn5yv7xtTQGiog3Xv8SxjvjQCYxN2Pfgsbod88/vN9HwUAdA1P474DpW1A9fLf/yVOnnwG/2Ls/Ni87bfjPrwTt9zg2/mbETW4StfVHfP5sA8AbgtwezpqWk5uI1Xx357HEydP4i///p8r+8bU0BoqIAWA4z1/gR4AGHkETz47BwC4ePoJPDEJIDqI/3T/wRLfKYHrCQBoRyqWgJnIXk2aiQRi8ueleVy6NIOYvNBMxDA/N4eZmRnMzS9Bvf4MHrof/8P4GR48vBu5N7LeZ2nuEi5duoS5uWvYTkeJGVvC3Nwc5ubmcW2pwpeqRFVSqbqaiMWQsKk4ZiJm1bHcM7F0bT5bP+fmN+rtDrDuUaOpdhspxay6dg12NaNY3Ymt5e4vX0fCLK+isk42MdGAViYHBQABdInR8SERAQQQEWMLJb5BfCL3GvXWLxbFihiIQCDaL0aHenKPh8X4iiHODXRrz4dAuFucWzCEEELEJr8hAIiTE4tCiBUxGIVAuEcM9nXmvybSK6bjJX9SMdbften/jXQPiVI/KlE97biuLoyKMCAQ6ReL6uPxCREFBMLZxxcnh7P3tVvf2Kz1/E5AIDogVko7ctY9aljVayOFEMasGOiKaL/rFKOzsmErXncm+vXXQvRPlFIrWSebXUMGpEIIca4vmlcoe0ZmS3+xcVWMDPSJrnA24Ozu6xP9g+MiLlbEYKda2COiq3tAvPD8QC4A7RQDw6NifGxY9ETD2crQNyGEKBCQ5t6ne2BYjI+NiJ7cY52DUyUd5srkxv87ODIqRkcGRGc4957lfF6iOtpRXRWLYiCaraejVw3r0YXxvmxdGpoSwpgSXbmLx+7+ITE2PiYGe3MXguG+bCNaZkDKukeNrtptZLirT4yOj4mBHvn/dImp+NZ1Z3Z8SHTL9jHcJfr6B6zETjGsk82vYQNSYUxmMyeAQKTUrEe+qcFOAUTFpFUXNgLJcPewlZGZHMw2bgOTSmozfk5EABHtLx6Q5n0JLI6LCCAiuddsZXakJxf0ntt48OqoiAKia3ByG5+YqA52WFdnR7o3gs/sG4qR7vBGxidXr8K948qr4tneDkTFuRVRdkDKukcNrwptZHxqKFsvekbznjc52LURcJZQd4ypbAY3OlB6XWKdbH4NO75/fvwZTMo7Z76OH136NB48HCzrPYxkdsi3EQewR/1NGP/ly/ejI3fvDQ9/B6LzL3Bt4SounL2CS7+cxOj3n8AZANGi/0MU97/3wMbd0C60Ayh1YvGr7ng9AODME8fg+kknej9+N975lrfiO0LkHy6Rg+20rh6IfAJRnMTT//WvcerBw+hITGH45CTQOYi37wWA43hOGIhdW8ClC2dx+aUZvPCzZ/DkmezrtzPNkHWPGl012sgr50azb/fL5/Ht03NYSSaBQDsSF74JAPj17Mt41Xu3rjtxI5n9IVn6bCnWyRZQ74h4WxbP5caLhUVXl+wu6BHlJu0nB6ICiIqN4Ssys9ktppUehPjVcdEd1sat5O4Xz5Cq7y2scW+lZkiFEOLqxLDo7tTH3ITF4ARHzVADqEhdlRnRsBhdECI+0Z/tfRi9mvv9ghjqye+eDFv1tTNbB8seQ8q6Rw2sSm2kzFIWvHUOibjYuu7I7vdoGW2hKOF9qbE13Cx7IIbvPnYMIwAifd/E6dPfw0AUAJ7CZ752tjL/ReQwXmnljmP43qMncHIS6OofxeziCgwh8NwLU+hE6dnO7TBjS/Dd9iH8l+88ByO+iNmpcxjs7QQwic/cNQCu4EbOVqm66sXxT/4xgEn89G8u4v/8/BkAnbj/nTcDAOae/TM89NQIwp19ODe7gLgh8MILBoY6s8ewHax71Liq10bGV18GAPSNX4Uw4liJZ2/xlQVMT01h9tRH4K1S3WGdbAH1jojLtXGF1rtxtXd11BorMzCxWOzlebJXf2Fl5mEus5k33mYlN6kiIs4pWdOpoe68MTDVyJBO9GUnTg1Oqm+yKPrCucxPybP1iWqvknVViGnRrWZAlTFscvxav1IhjNnRXIaoMzv+rcwMKeseNapqtpHG7HAuEzqYt+rF1dGe3Djv6ZLqzsrEQNljSFknm19jBaQL49ZSFENT+aVvakguB9EtpkosmBP9ua6MSFR0942KFRl8agGpNdGps0cMDg2Jvq6N7sFwpEuMTC5uCkgHosqECqnMgFTOJAYguvsGxNDQgDW7H9FBwfpHjlXhuiqEUl8BMaBc6U0Py/eLir7BITHYn79EW8/QhDBWcstERQZEKc0x6x41pBq0kUNyJZpIlxgYGhYDffJ9I2J8scS6k5uIiHBEdHb1iLHZrQ+IdbL5NVRAOtqdLXydA3YB3YLozwWOpV51GQvK2NDIgFiUS1poMxLjs2O55S82xqz0Dg6JnkhuPGn/hIjl1n37xkRMCKvSdgl1Yr6IT4pOQERtj9/2CMXEcO/GTEk5frWzT0xtZ8okUY1Uuq4KIYQxO5KtC+FebSzcghjszh9DGunuF4O9ucfC/WIlPpldGqpzqMQxpKx71Hiq30YKIYyrm8ZsI9wlhq1xnKXUnUUxrLzHwGQplYp1stm5hBCizF5+xzMTS7j6uxX4fHbzaw0Yhg+vOnAzyptvCMRiS0gkgD0dHQh6AZgxXFsysWdvR9nvVd4xmkjEYoibQCi0B8Fgwy6OQJQndm0ei+uAfTUwgLYbcfPe0ubQmokYYrEEEOxAxx5v7v2vwVTuZ5/HuketrSJtZCKGpVgCpjeIvR12dbT0usM6SQDQlAHpxdMfQviRkSLPCOPcygt4ax3XimiEYySqrhhOvbEdX5ws8pRwPxZfeMxagq0SWPeo1TmtDjjteKg+yg5IRbabH3YvK/Q4NT+XywWXy1Xwcbvf0faw/pGuWP1T/6XqKNQuyvusl62J7WJ5Ssp1y8qUyWSsf9WKxoaQVC6XC2632/rZ7kblUeuYEALpdNr6Wf2XWpsegMq6qN5n/asMWSdlu6i2hWwTSafXQ9lGqm1lq9syIJUVTg1KTdPESy+9hHg8bj0mn6vep9Zh1+gFAgEcPHgQXq83r2FUn0vF6Q2crH+//vWvEY/HbRs/NoatRQ0y1Z+DwSAOHToEt9tt3YBs+ZA/0/aoF4VqnVxfX7d+r7aDbBNbj17HPB4PACAUCuG2226Dz+eDy+WCEILtYk7RLns1GJX/plIpfOADH8D4+Hgtj5Ma1IkTJ/Dss88iEAjA5XLB4/FYjSYbxeLUYDOdTiOTySCdTuOee+5h/aOSnDhxAj/60Y8QCAQAwLo4BDY3mFQaNRg1TROmaeLee+9lnaSSnThxAj/+8Y/h8/msi0UGpVsEpJlMxrrJYHR6ehpvfvOba3mM1OAmJibw+7//+/B6vXC73VZQ2uqVbyuy3qnB6OXLl1n/qCwTExO444474PF4rPon6x7rX3nU5IxpmqyTtG0TExM4dOgQ/H5/Xi9GK9fLgl32asUTQsAwDKTTaaytrdXy+KgJxGIxmKYJIYS1rIfH47G6KmgzdfiLDEZN02T9o7Ktrq5a9U92G3Ky0/bowahpmlY3PVE51tfXkU6nkUql4Pf7rcdlHW1FRQNSIFsBDcOAaZowDAOpVCrveSOnOnFw/43VPUpqKDO/XUT0saet+4ZhIJlMWt32fr8/rzuajeJm8oIwnU5bDV8qlYJhGHnPe+avHsbB22+q01GSE8289DI+9JFvW/dTqVReo+d2u5HJZHhRWCa1TZQ9F7JtVI187KM42FHJhcqoGcwsLSH6g2HrfiKRsL7PDcOwuu9buU5umSFVG8RkMolkMpn3vEO33oSjB19Z9QOlxqFXpkQikVduXC6XNaCbCpMBu3oxqF8QHjr4Chw9+qo6HSE5kV6vkskkEokEACAQCCCdTm9aCYO2praJsk4ahmGdW+nQjR04undvnY6SnEqvZqlUColEIm9ORasPY7MNSPVZvTKtbBeQEm1Flhu3222NI/V6vcyQFqGOHZVDZuwaP6KtyAtCNQBldrR86uoVcjKT3UUiUSni8bhVL2VAKsd3t2rdLDjNUp3dK7slZFBKVI5EImF1NxuGYV3kcGkie3rDJ89bMplk40dlkxlSWffUG5VHLvGktodsE2k7EomEVS9TqVReu9iqbaNtQCpPhjw5chyp3RhSoq3IsiO/yNXJcmRPXcdQDpthNoa2QzZ6sv7J8gRwQ4Xt2GoMKVEpZDylJmnUNd9bUdEMKYC8JWfkFxpROWRmzzCMvK5ogA2iHXX3JZnJkqtcsP5RueT3trwYbPUszHapF9Lq3Ap9oiFRKVKplFWG2GOYtWWXPQBWPtoRNTMjl5/hlpfFqTN6ZQAvM81E5ZDlRn6Ps+6VT79IVHdN40UibYdsD/X1plu5XhbdqkNdFF9+mcmuHqJSqdkZdewax7AVZxeUsv5Ruey6BLnf+s6o55LfY7Qd6vAZNRBt5Tq55d5xarehDCqIysFKVz51lQsgPyglKoeafeH47Z3Re3eYpKHtUofPcAhbVtGAVA8eeDVI26FvQcsyVBp9+TVmSGk7ZCaG2dHKYRcr7RR7DDfbMkMqMbNF28WyszM8f7QTLD/VxfNK26GWG5ahrJK67HniqNJYjoqzOz88Z7QdW32Hs1xtjRllqibWyayi65AW+5moVHo3oZqx4Rf91pjhop3S6xxtjzrLXt7n+aTtsltxppXLU8ld9kRUf638ZUVERM2LASkRERER1RUDUiIiIiKqKwakRERERFRXDEiJiIiIqK4YkBIRERFRXTEgJSIiIqK6YkBKRERERHXFgJSIiIiI6ooBKRERERHVFQNSIiIiIqorBqREREREVFcMSImIiIiorhiQEjmQy+Uq6TGiUqhlh+WIiJyIASmRw8kAwuVyMZigbWEZIiKn89b7AIho+2Zeerneh0AOo5cJt7t43oEBKhE5AQNSogZhFzhEPzxYhyOhRsKAk4gaAbvsiRzM5XLB7XZb//r9/nofEjWYQCAAt9sNj8djddkzSCUip2FASuRQauDg9Xrhdruxb98+HDlypM5HRo3izjvvxKtf/eq8ixqAY0mJyHnYZU/kQDJ4kIGEx+OBx+OB3+/Hk08+iStXruD69etYW1tDPB5HKpVCKpWCaZrIZDLIZDL1/ghUI/JixefzIRAIIBAIIBQKob29HQcPHkQgEIDX67Wep2ZJGZQSkVMwICVyIHVWtMfjgdvttoKKQCCA/fv344YbbsDa2hrW19cRj8dhGAYMw0A6nWZA2iJkgOn1eq2ANBQKoa2tDXv27EEwGITf77eCUXlhI19LROQUDEiJHEYNRmWWVAYSgUAAwWAQyWTSyobKoNU0TaRSKaTT6Tp/AqolPSANBoMIhUIIBoNWQOrz+eD1eq2sKINRInIaBqREDqWOH/V6vfD7/VYGLJVKQQhhZU4DgUBel70QNgD9lwAABzpJREFUos5HT7UiL1h8Pt+mLOmuXbsQDAatgNTn81kZdyIiJ2FASuRAamZU7ao3DAOhUAiZTMYaUxoIBPKyoxxD2jrUyUoy2JRZ0ra2NgSDQeu+3+/f1GXPMaRE5BQMSIkcRp1wIgNTv98PIQTa2toAwApAUqlUXvc9M6StRQaU6oWLmk2XgWkgELCypF6v11oCiojIKRiQEjmUzJDK4FJmPeWYQb/fb3XTp9Np68ZgtLXoY41l17zP54Pf77eypHIsqb78E21NXZFAzSxzpQLaCa54kY8BKZEDqRlSGZQGAgHr93LsqN/vt7rphRAwTZMBaQuS40JdLpfVdS8zon6/P2+mvbqcGJWH54xqoVXLGQNSIoeSAakQwpohDWxMcvL5fMhkMnkBKbvrW5N68aKOKZX/yp9lBlV9HW2fXWZrZmmpTkdDTqaXi0JZ0VaukwxIiRxI/VKSk1D0rKkcM6oHogxIW4/aDa9upqAGoXKoh3x+Kzd8O6Vu6au77/vDdTgiajT6sA/WRwakRI6lB6Uy0HS73VYA6vV6IYTIC0I5w7616I2ZvK9mS+VN/T0bwPLZTTgMBoP1PixqQH6/P2+VDNZJBqREjmYXaMgAVJ/spAem1DrUCTeF7nMizvap5w7IX27rlltuwete9zq8+OKL9TxEaiBHjhzB/v37rRUv9IlyrYoBKZHDqYGo/BfY6JqXXfoMRklvzPRGrpUbu0pRh0TISWN/+qd/il/96ldYXl7G+vo61tbWkEwmYRhG3lJsrKOtQd3SV64hHQgE0NbWhvb2dhw6dMha9UIdWtPqkw0ZkBI1iEJBBRs5UrVyg1ZNav2TGwzIgDQYDOLAgQNYXV3F2toaVldXkUwmkUqlYBgGN6toQeoSbPruaaFQCIFAYFOGtNV7LxiQEjW4Vv4CI6oVfTyuurSW3IAgk8lYQYXf77cypFwfuPXIpfnU9YBDoZAVkMoMqdxBrdWzowADUiIiopKoq1zI7thgMJgXdMqsl2EY1na+6XQaAHszWoUsJ+rOaT6fD6FQyApMZVAqL2zUZdtaNTBlQEpERLQFdXa9ug4wACsz6vF4kEqlEAwGN2VH2WXfOtSVLuQFitwtTWbT5Q5qgUDAGgLSysEowICUiIhoS/rOaT6fLy/jKTNdhmEgFApZwai6aQW1BjUgVYd3yJvMjqpZUrmTWisHpVsGpFwuhHZK36+XM36JqNGoSz7JIMPv91u/k9u2GoZhTWSS2VHOsG89+phjdYc9OdFJdtWrwWgrsw1I9bUPiSqNFzlE1GjcbjfS6bQVRAAbC5y73W6Ypgm/32+NG+V2vq1L30BBZkvVwFTt0i+2+1erKLnLvlBWa+a3L1f2iKjh6WWCGVEiagbqFq36RbXH47G28lW76pkdbU16r6AalMrAVL2vl6tWVDQg1Xf70H8GgPv+zdNVOCxqJmqFY0aUiBqZDC4ymYyV2fJ4PEin0/B6vZsWwWdA2pr0tk7d3UvdXMHuIqdVlRSQ6jMLicohZxHqi/+2euUjosZTaJtWGZRK6iQmBqStyW5oml07yPYwa8suezWq93g82L9/P44ePYpf/vKXtTg+anCHDx/Gvn37Nl0ZArwaJKLGpE/OVLfx1WfTMxhtbcW272Ugmq9gQKoOsFXHOwQCAXzlK1/BlStXsLy8bO3Zq+/byyUuWoN6seL3++H1eq1Ff9vb23H77bdb66/pS1vI1xMRNSq7rlmAgSjlY1u3taIBqT4QV90mbf/+/bjxxhuxvr6O9fV1pFIpKyjlmJnWISuZ3I1Crq0WCoWwZ88etLW1WXv2ylmp6gBuIqJmxACEqDxbjiGVwYPf70cikUAwGEQqlbJmE8qANZlMIhAIWI8zQ9oa1DIiL1b8fr+1X28wGLSCVXWpC05wIiIiIqngOqTqzC+v1wvDMBAIBJDJZJBMJq3B216vF4FAAIlEAul02sqQMiBtDWpAKhf8lVnSYDCI3bt3Y9euXdZevpxtT0RERLotu+zlrHq5TZq8yaxXKBSyAlS5OwUXAm4d+tAOmQmVmdK2tjYrOJVd+vrkJiIiImptRTOkcp2sTCaDQCCQ93sZfKjbpMm9e9X116i56QGpnLgkM6LyokVuk8Y9e4mIiEhXdAyp2+22sqFCiLx9ez0ej7Vvr9yVQt2dglqHGpTKYFPds1dmRuXEJn0dNiIiImptRbvsgfygVD4us2E+n8/KjKpLPXH8aOvRlwiTZURmS2X2lBOaiIiISFc0IJWz6IUQeVkwl8sFr9eLdDptddFz397Wpq9bq868V//l+FEiIiLSucQW0aOa9VQDT7V7Xp1Vz4C09ehbzKo/60Eou+uJiIhIt2VACuQHmXomVM+KMhhtTXZ79hYKQBmMEhERkaqkgFTSs596EMpgtLUV26OXQSgREREVUlZAWggDUVIx8CQiIqJyFF32qVQMQIiIiIhou9z1PgAiIiIiam3/F1IDMZlAiKCrAAAAAElFTkSuQmCC)"
      ],
      "metadata": {
        "id": "4lFM6GTjyURf"
      }
    },
    {
      "cell_type": "code",
      "execution_count": null,
      "metadata": {
        "id": "gO4lP65oENw7"
      },
      "outputs": [],
      "source": [
        "from sklearn.preprocessing import StandardScaler\n",
        "#YOUR CODE HERE\n",
        "# ...\n",
        "# ...\n",
        "# X_train_s = ...\n",
        "# X_val_s = ...\n",
        "# X_test_s = ..."
      ]
    },
    {
      "cell_type": "code",
      "source": [
        "#Let's check out that everything is ok!\n",
        "train_means = np.round(np.mean(X_train_s, axis=0),2)\n",
        "train_stds = np.round(np.std(X_train_s, axis=0),2)\n",
        "\n",
        "val_means = np.round(np.mean(X_val_s, axis=0),2)\n",
        "val_stds = np.round(np.std(X_val_s, axis=0),2)\n",
        "\n",
        "test_means = np.round(np.mean(X_test_s, axis=0),2)\n",
        "test_stds = np.round(np.std(X_test_s, axis=0),2)\n",
        "\n",
        "data = {'Train Mean': train_means, 'Train Std': train_stds,\n",
        "        'Validation Mean': val_means, 'Validation Std': val_stds,\n",
        "        'Test Mean': test_means, 'Test Std': test_stds}\n",
        "\n",
        "df_stats = pd.DataFrame(data, index = feature_names)\n",
        "df_stats"
      ],
      "metadata": {
        "id": "kvRuxg7aKlV6"
      },
      "execution_count": null,
      "outputs": []
    },
    {
      "cell_type": "markdown",
      "metadata": {
        "id": "cTDHiA1bR-bY"
      },
      "source": [
        "From now on, please work with **standardized features**. In other words, the three subsets for implementing the regression models are:\n",
        "*   `[X_train_s, y_train]`\n",
        "*   `[X_val_s, y_val]`\n",
        "*   `[X_test_s, y_test]`\n",
        "\n"
      ]
    },
    {
      "cell_type": "markdown",
      "metadata": {
        "id": "QOYb1dEJFNYO"
      },
      "source": [
        "## 2.3 Designing the estimation models"
      ]
    },
    {
      "cell_type": "markdown",
      "metadata": {
        "id": "VAsshxdQeJZF"
      },
      "source": [
        "### 2.3.1 Linear regression\n",
        "\n",
        "In this section, we will implement a **linear regression model**. This model assumes that there is a linear relationship between the independent variables (input features) and the dependent variable (output).\n",
        "\n",
        "> **Training the model**\n",
        "\n",
        "*   First, import the class: `from sklearn.linear_model import LinearRegression`\n",
        "*   Then, instantiate the model object.\n",
        "*   Next, fit the training data. This creates a trained regression model (an object of the `LinearRegression` class).\n",
        "\n",
        "The variety of methods and attributes available for the regression model can be explored [here](http://scikit-learn.org/stable/modules/generated/sklearn.linear_model.LinearRegression.html)."
      ]
    },
    {
      "cell_type": "code",
      "execution_count": null,
      "metadata": {
        "id": "TQ9yUbK6ZyLb"
      },
      "outputs": [],
      "source": [
        "from sklearn.linear_model import LinearRegression\n",
        "#YOUR CODE HERE\n",
        "# lr = ..."
      ]
    },
    {
      "cell_type": "markdown",
      "metadata": {
        "id": "GnTS33j94eZ3"
      },
      "source": [
        "> **Prediction from our model**\n",
        "\n",
        "Let's generate predictions from our test set and evaluate how well the model performed!"
      ]
    },
    {
      "cell_type": "code",
      "execution_count": null,
      "metadata": {
        "id": "enHG4bpB4vO-"
      },
      "outputs": [],
      "source": [
        "#YOUR CODE HERE\n",
        "# y_pred_lr = ..."
      ]
    },
    {
      "cell_type": "markdown",
      "metadata": {
        "id": "q-CbVXA_3bhv"
      },
      "source": [
        "> **Evaluation the model**\n",
        "\n",
        "Let's evaluate the model by computing the $R^2$ and RMSE metrics, and then print the results. Please round all numbers to 2 decimal places."
      ]
    },
    {
      "cell_type": "code",
      "execution_count": null,
      "metadata": {
        "id": "9xsfqlLr5G4x"
      },
      "outputs": [],
      "source": [
        "#YOUR CODE HERE\n",
        "# ...\n",
        "# r2_lr= ...\n",
        "# rmse_lr = ...\n",
        "\n",
        "print('RMSE for linear regression model is:',rmse_lr)\n",
        "print('R2 for linear regression model is:',r2_lr)"
      ]
    },
    {
      "cell_type": "code",
      "execution_count": null,
      "metadata": {
        "id": "vt8Nw93i7Gyn"
      },
      "outputs": [],
      "source": [
        "# Produce a scatter plot with the representation of the real value of the label vs. the estimated value obtained for the training set.\n",
        "s_train_lr = lr.predict(X_train_s)\n",
        "plt.scatter(y_train,s_train_lr)\n",
        "p1 = max(max(s_train_lr), max(y_train))\n",
        "p2 = min(min(s_train_lr), min(y_train))\n",
        "plt.plot([p1, p2], [p1, p2], 'r-')\n",
        "plt.xlabel('Real values')\n",
        "plt.ylabel('Predicted values')\n",
        "plt.show()"
      ]
    },
    {
      "cell_type": "markdown",
      "metadata": {
        "id": "HNOcV7j69Evz"
      },
      "source": [
        "Having a look at the scatter plot and keeping in mind the R2 performance of the regressor, what do you think is happening?\n",
        "\n",
        "\n",
        "<font color = 'green'> YOUR ANSWER HERE\n"
      ]
    },
    {
      "cell_type": "markdown",
      "metadata": {
        "id": "Mw5LBJb8KN7G"
      },
      "source": [
        "###2.3.2 Linear ridge regression\n",
        "\n",
        "In this section, we will implement a **linear ridge regression model**. This model also assumes a linear relationship between the independent variables (input features) and the dependent variable (output). However, Ridge Regression introduces a regularization term to the linear regression (hyperparameter `alpha`), which helps preventing overfitting by penalizing large coefficients in the model.\n",
        "\n",
        "> **Selecting the best value of `alpha`**\n",
        "\n",
        "The first task is to find an *optimal* value for `alpha` (a hyperparameter in the linear ridge regression model that controls the strength of regularization). In this assignment, the range of `alpha` values to explore is `[0.001, 0.01, 0.1, 1, 10, 100, 1000, 10000, 50000, 100000]`. For each value of `alpha`, compute the $R^2$ score for the validation set and plot all the metrics on the same figure.\n",
        "\n",
        "To achieve this, follow these steps:\n",
        "\n",
        "*   First, import the class: `from sklearn.linear_model import Ridge`\n",
        "*   Then, create the model object.\n",
        "*   Next, fit the training data. This creates a trained model (an object) of the Ridge regression class.\n",
        "*   Next, fit the training data. This creates a trained model (an object) of the Ridge regression class.\n",
        "After that, compute the $R^2$ for the validation data, store it in a 1D array, and plot it in a figure. Please use a log scale on the x-axis.\n",
        "\n",
        "\n"
      ]
    },
    {
      "cell_type": "code",
      "execution_count": null,
      "metadata": {
        "id": "pPNqeJy7KlvL"
      },
      "outputs": [],
      "source": [
        "from sklearn.linear_model import Ridge\n",
        "\n",
        "# YOUR CODE HERE\n",
        "\n"
      ]
    },
    {
      "cell_type": "markdown",
      "metadata": {
        "id": "ghLm58u3DAil"
      },
      "source": [
        "What is the best value for `alpha`? Why?\n",
        "\n",
        "\n",
        "<font color = 'green'> YOUR ANSWER HERE"
      ]
    },
    {
      "cell_type": "code",
      "execution_count": null,
      "metadata": {
        "id": "RPvZ6TKV7ts6"
      },
      "outputs": [],
      "source": [
        "# YOUR CODE HERE\n",
        "# ...\n",
        "# ...\n",
        "\n",
        "#alpha_best = ...\n",
        "\n",
        "print('The best value of alpha is: ',alpha_best )"
      ]
    },
    {
      "cell_type": "markdown",
      "metadata": {
        "id": "1LuhbP4yGltd"
      },
      "source": [
        "> **Training and evaluating the model**\n",
        "\n",
        "*   Now, create a model object from the Ridge class.\n",
        "*   Next, fit the training data using the *optimal* value of `alpha`.\n",
        "*   Let's evaluate the model by computing the $R^2$ and RMSE metrics on the test set, and print out the results. Please round all numbers to 2 decimal places.\n",
        "\n",
        "\n"
      ]
    },
    {
      "cell_type": "code",
      "execution_count": null,
      "metadata": {
        "id": "p60CB9sqGk9y"
      },
      "outputs": [],
      "source": [
        "# YOUR CODE HERE\n",
        "# ...\n",
        "\n",
        "\n",
        "\n",
        "print('RMSE for Ridge regression model is:',rmse_ridge)\n",
        "print('R2 for Ridge regression model is:',r2_ridge)"
      ]
    },
    {
      "cell_type": "code",
      "execution_count": null,
      "metadata": {
        "id": "uHKyb3K6UJa1"
      },
      "outputs": [],
      "source": [
        "# Produce a scatter plot with the representation of the real value of the label vs the estimated value with the best value of alpha for the training set.\n",
        "s_ridge = ridge_best.predict(X_train_s)\n",
        "plt.scatter(y_train,s_ridge)\n",
        "p1 = max(max(s_ridge), max(y_train))\n",
        "p2 = min(min(s_ridge), min(y_train))\n",
        "plt.plot([p1, p2], [p1, p2], 'r-')\n",
        "plt.xlabel('Real values')\n",
        "plt.ylabel('Predicted values')\n",
        "plt.show()"
      ]
    },
    {
      "cell_type": "markdown",
      "source": [
        "Do you observe any difference with the previous figure? Why is it happening?\n",
        "\n",
        "\n",
        "<font color = 'green'> YOUR ANSWER HERE"
      ],
      "metadata": {
        "id": "X7jJAq-nM1vu"
      }
    },
    {
      "cell_type": "markdown",
      "metadata": {
        "id": "z8DNMTXrIRXG"
      },
      "source": [
        "###2.3.3 Linear lasso regression\n",
        "\n",
        "In this section, we will implement a **linear lasso regression model**. Like ridge regression, this model assumes a linear relationship between the independent variables (input features) and the dependent variable (output). However, lasso legression introduces a regularization term controlled by the hyperparameter `alpha`, which helps prevent overfitting by penalizing the absolute values of the model coefficients. Additionally, lasso can drive some coefficients to zero, effectively performing feature selection by excluding less important variables from the model.\n",
        "\n",
        "\n",
        "> **Selecting the best value of alpha**\n",
        "\n",
        "As previously, the first task is to obtain an *optimal* value of `alpha` for the lasso regressor.\n",
        "\n",
        "In this assignment, the corresponding range that will be explored for `alpha` is: `[0.001, 0.01, 0.05, 0.1, 1, 5, 10]`. For each value of `alpha`, compute the $R^2$ score for the validation set and plot all the metrics on the same figure.\n",
        "\n",
        "To achieve this, follow these steps:\n",
        "\n",
        "*   First, import the class: `from sklearn.linear_model import Lasso`\n",
        "*   Then, create the model object.\n",
        "*   Next, fit the training data. This creates a trained model (an object) of the lasso regression class.\n",
        "*   Finally, compute the $R^2$ for the validation data, store it in a 1D array, and plot it in a figure. Please use a log scale on the x-axis.\n",
        "\n",
        "\n",
        "\n"
      ]
    },
    {
      "cell_type": "code",
      "execution_count": null,
      "metadata": {
        "id": "zVEmTaOXI24n"
      },
      "outputs": [],
      "source": [
        "# YOUR CODE HERE\n",
        "# ..."
      ]
    },
    {
      "cell_type": "markdown",
      "metadata": {
        "id": "1PJm337W_58-"
      },
      "source": [
        "What is the best value for `alpha`? Why?\n",
        "\n",
        "<font color = 'green'> YOUR ANSWER HERE"
      ]
    },
    {
      "cell_type": "code",
      "execution_count": null,
      "metadata": {
        "id": "7OXjNNs8S3MZ"
      },
      "outputs": [],
      "source": [
        "# YOUR CODE HERE\n",
        "# ...\n",
        "# ...\n",
        "#alpha_best = ...\n",
        "\n",
        "print('The best value of alpha is: ',alpha_best )"
      ]
    },
    {
      "cell_type": "markdown",
      "metadata": {
        "id": "unZBJyLWKR-2"
      },
      "source": [
        "> **Training and evaluating the model**\n",
        "\n",
        "*   Now, create a model object from the lasso class.\n",
        "*   Next, fit the training data using the *optimal* value of `alpha`.\n",
        "*   Let's evaluate the model by computing the $R^2$ and RMSE metrics on the test set, and print out the results. Please round all numbers to 2 decimal places."
      ]
    },
    {
      "cell_type": "code",
      "execution_count": null,
      "metadata": {
        "id": "Anywm-slKWQU"
      },
      "outputs": [],
      "source": [
        "# YOUR CODE HERE\n",
        "# ...\n",
        "# ...\n",
        "#r2_lasso = ...\n",
        "#rmse_lasso = ...\n",
        "\n",
        "print('RMSE for Lasso regression model is:',rmse_lasso)\n",
        "print('R2 for Lasso regression model is:',r2_lasso)"
      ]
    },
    {
      "cell_type": "code",
      "source": [
        "# Produce a scatter plot with the representation of the real value of the label vs the estimated value with the best value of alpha for the training set.\n",
        "s_lasso = lasso_best.predict(X_train_s)\n",
        "plt.scatter(y_train,s_lasso)\n",
        "p1 = max(max(s_lasso), max(y_train))\n",
        "p2 = min(min(s_lasso), min(y_train))\n",
        "plt.plot([p1, p2], [p1, p2], 'r-')\n",
        "plt.xlabel('Real values')\n",
        "plt.ylabel('Predicted values')\n",
        "plt.show()"
      ],
      "metadata": {
        "id": "qdvOi6prNaD7"
      },
      "execution_count": null,
      "outputs": []
    },
    {
      "cell_type": "markdown",
      "metadata": {
        "id": "l1w7lwDjBZaQ"
      },
      "source": [
        "Having a look at the metrics reached by the three regression models explored (linear regression, Ridge regression and Lasso regression) which technique seems to be most adequate for this task? What does it do that the rest don't? Justify your answer\n",
        "\n",
        "<font color = 'green'> YOUR ANSWER HERE"
      ]
    },
    {
      "cell_type": "markdown",
      "metadata": {
        "id": "NL92p6MMzZA9"
      },
      "source": [
        "### 2.3.4 Kernel Ridge Regression\n",
        "\n",
        "In this section, we will implement a **kernel ridge regression model**. Like ridge regression, this model assumes a relationship between the independent variables (input features) and the dependent variable (output). However, kernel ridge regression extends ridge regression by incorporating the use of kernels, which lets the model represent non-linear relationships in the data. The model includes a regularization term controlled by the hyperparameter alpha, which helps prevent overfitting by penalizing the magnitude of the model coefficients. By using kernels, this method can project the input data into higher-dimensional spaces, enabling it to handle more complex patterns.\n",
        "\n",
        "Although the kernel is a hyperparameter that can be tuned, in this assignment, it has been chosen the `rbf` kernel. RBF (Radial Basis Function) kernels are among the most extended forms of kernelization and are widely used due to their similarity to the Gaussian distribution, making them a versatile choice for a variety of problems.\n",
        "\n",
        "> **Selecting the best values of alpha and gamma**\n",
        "\n",
        "The first task is to obtain an *optimal* value of both `alpha` and `gamma` for the kernel ridge regressor. The hyperparameter `gamma` plays a crucial role. It controls the shape of the kernel and how far the influence of a single training example reaches.  A small `gamma` value results in a smoother, more generalized model where each data point has a broader influence. Conversely, a large `gamma` value leads to a narrower, more localized kernel, where each data point influences the model over a shorter distance.\n",
        "\n",
        "In this assignment the corresponding ranges that will be explored for `alpha` is: `[0.0001, 0.001, 0.01, 0.1, 1, 10]` and for `gamma`: `[0.0001, 0.001, 0.01, 0.1, 1, 10]`. For each combination of `alpha` and `gamma`, compute the $R^2$ for the validation set.\n",
        "\n",
        "To achieve this, follow these steps:\n",
        "\n",
        "*   First, import the class: from `sklearn.kernel_ridge import KernelRidge`\n",
        "*   Then, create the model object.\n",
        "*   Next, fit the training data. This creates a trained model (an object) of the kernel ridge regression class.\n",
        "*   Finally, compute the $R^2$ for the validation data and store it in a 2D array,\n",
        "\n",
        "\n",
        "\n"
      ]
    },
    {
      "cell_type": "code",
      "execution_count": null,
      "metadata": {
        "id": "Pd2D8ndeZyL2"
      },
      "outputs": [],
      "source": [
        "# YOUR CODE HERE\n",
        "# ...\n",
        "# ...\n",
        "# ..."
      ]
    },
    {
      "cell_type": "markdown",
      "metadata": {
        "id": "KUjEmH3SBJsp"
      },
      "source": [
        "What is the best value for `gamma`? And for `alpha`?\n",
        "\n",
        "<font color = 'green'> YOUR ANSWER HERE"
      ]
    },
    {
      "cell_type": "code",
      "execution_count": null,
      "metadata": {
        "id": "Ki6Oi4L1UqTp"
      },
      "outputs": [],
      "source": [
        "# YOUR CODE HERE\n",
        "# ...\n",
        "# ...\n",
        "\n",
        "#alpha_best = ...\n",
        "#gamma_best = ...\n",
        "\n",
        "print('The best value of alpha is: ', alpha_best)\n",
        "print('The best value of gamma is: ', gamma_best)\n"
      ]
    },
    {
      "cell_type": "markdown",
      "metadata": {
        "id": "K8zYJdaoShBK"
      },
      "source": [
        "> **Training and evaluating the model**\n",
        "\n",
        "*   Now, create a model object from the kernel ridge regression class.\n",
        "*   Next, fit the training data using the *optimal* values  of `alpha` and `gamma`.\n",
        "*   Let's evaluate the model by computing the $R^2$ and RMSE metrics on the test set, and print out the results. Please round all numbers to 2 decimal places."
      ]
    },
    {
      "cell_type": "code",
      "execution_count": null,
      "metadata": {
        "id": "-olg6PsnTUvm"
      },
      "outputs": [],
      "source": [
        "# YOUR CODE HERE\n",
        "# ...\n",
        "# ...\n",
        "\n",
        "#r2_kernel = ...\n",
        "#rmse_kernel = ...\n",
        "\n",
        "print('RMSE for Kernel Ridge regression model is:',rmse_kernel)\n",
        "print('R2 for Kernel Ridge regression model is:',r2_kernel)"
      ]
    },
    {
      "cell_type": "code",
      "execution_count": null,
      "metadata": {
        "id": "mKdkkiy5HfcM"
      },
      "outputs": [],
      "source": [
        "# Produce a scatter plot with the representation of the real value of the label vs the estimated value with the best values of alpha and gamma for the training set\n",
        "s_train_kernel_ridge = kernel_ridge.predict(X_train_s)\n",
        "plt.scatter(y_train,s_train_kernel_ridge)\n",
        "p1 = max(max(s_train_kernel_ridge), max(y_train))\n",
        "p2 = min(min(s_train_kernel_ridge), min(y_train))\n",
        "plt.plot([p1, p2], [p1, p2], 'r-')\n",
        "plt.xlabel('Real values')\n",
        "plt.ylabel('Predicted values')\n",
        "plt.show()"
      ]
    },
    {
      "cell_type": "markdown",
      "metadata": {
        "id": "tRHCe0hBBzBg"
      },
      "source": [
        "Is there any difference between this representation and those obtained from the other regressors that were previously explored in this assignment?\n",
        "\n",
        "<font color = 'green'> YOUR ANSWER HERE"
      ]
    },
    {
      "cell_type": "markdown",
      "metadata": {
        "id": "qoN9ch9-Y7t4"
      },
      "source": [
        "# <font color = 'black'> 3. Role of each variable in the model </font>\n",
        "\n",
        "As explained in the course, the coefficients represent the strength and direction of the relationship between the features and the target variable. If a coefficient is set to $0$, it means that the corresponding feature has been excluded from the model. If the absolute value of a coefficient is close to zero, it indicates that the feature is less significant, whereas a much larger absolute value suggests a stronger influence on the target variable."
      ]
    },
    {
      "cell_type": "markdown",
      "metadata": {
        "id": "nn7vLtelZNta"
      },
      "source": [
        "## 3.1. Linear regression case\n",
        "In the linear regression model:\n",
        "$$\n",
        "f(\\mathbf x) = \\mathbf w^\\top \\mathbf x + w_0 = w_0 + \\sum_{k=1}^d w_kx_k\n",
        "$$\n",
        "\n",
        "each feature $x_k$ contributes to the predictive function by its value being multiplied by the corresponding weight $w_k$.\n",
        "\n",
        "Retrieve the coefficients from the  linear regressor in Section 2.3.1 and print the relevance of the features based on these weights.\n",
        "\n"
      ]
    },
    {
      "cell_type": "code",
      "execution_count": null,
      "metadata": {
        "id": "iZfQWiB4cK7z"
      },
      "outputs": [],
      "source": [
        "#YOUR CODE HERE\n",
        "# ...\n",
        "# ...\n"
      ]
    },
    {
      "cell_type": "markdown",
      "metadata": {
        "id": "QywugLE_AtA6"
      },
      "source": [
        "What is the most relevante feature? And the least one?\n",
        "\n",
        "\n",
        "\n",
        "<font color = 'green'> YOUR ANSWER HERE\n",
        "\n",
        "$\\underline{\\text{Hint}}$: To identify the most and least relevant features in your model, you need to examine the absolute values of the coefficients from the linear regressor. The feature with the highest absolute value coefficient is the most relevant. Conversely, the feature with the smallest absolute value coefficient is the least relevant, meaning it has the weakest impact on the model.\n"
      ]
    },
    {
      "cell_type": "markdown",
      "metadata": {
        "id": "YVbKiBpaLuVP"
      },
      "source": [
        "## 3.2 Regression models with the best feature"
      ]
    },
    {
      "cell_type": "markdown",
      "metadata": {
        "id": "dcVzeT05cW3C"
      },
      "source": [
        "### 3.2.1 Linear regression"
      ]
    },
    {
      "cell_type": "markdown",
      "metadata": {
        "id": "ilSs4a-bavGT"
      },
      "source": [
        "Based on the previous results, **select the most relevant feature** and train a linear regression model using only these features. Then, evaluate the model by computing the $R^2$ and RMSE metrics on the test set, and print the results. Please round all numbers to 2 decimal places.\n"
      ]
    },
    {
      "cell_type": "code",
      "execution_count": null,
      "metadata": {
        "id": "yY6DpWM2a8OY"
      },
      "outputs": [],
      "source": [
        "#YOUR CODE HERE\n",
        "# ...\n",
        "# ...\n",
        "\n",
        "# X_train_reduced = ...\n",
        "# X_test_reduced = ..."
      ]
    },
    {
      "cell_type": "code",
      "execution_count": null,
      "metadata": {
        "id": "dzQM1BxNbXar"
      },
      "outputs": [],
      "source": [
        "#YOUR CODE HERE\n",
        "# ...\n",
        "# ..."
      ]
    },
    {
      "cell_type": "code",
      "execution_count": null,
      "metadata": {
        "id": "DSAt7W9wcCVc"
      },
      "outputs": [],
      "source": [
        "#YOUR CODE HERE\n",
        "# ...\n",
        "# ...\n",
        "\n",
        "# r2_lr_best = ...\n",
        "# rmse_lr_best = ...\n",
        "\n",
        "print('RMSE for linear regression model (with 1 feature) is:',rmse_lr_best)\n",
        "print('R2 for linear regression model (with 1 feature) is:',r2_lr_best)"
      ]
    },
    {
      "cell_type": "markdown",
      "metadata": {
        "id": "nR22rSm0qDEn"
      },
      "source": [
        "### 3.2.2 Semi-linear regression with the best feature"
      ]
    },
    {
      "cell_type": "markdown",
      "metadata": {
        "id": "jM27Ox8iqzhC"
      },
      "source": [
        "When using a **semi-linear regression model** that incorporates a quadratic function, you are essentially extending a basic linear regression model to account for non-linear relationships between the features and the output. This approach is called polynomial regression when you introduce quadratic (or higher-order) terms into the model.\n",
        "\n",
        "\n",
        "Let's see what happens if we use a semi-linear regression model with a quadratic function.\n",
        "\n",
        "$$\n",
        "f(x)= w_0 + w_1 x + w_2 x^2\n",
        "$$\n",
        "\n",
        "where $x$ represents the observed variable ($-$ best feature in this assignment).\n",
        "\n",
        "\n",
        "Train and evaluate the model by computing the $R^2$ and RMSE metrics on the test set, and print the results. Please round all numbers to 2 decimal places."
      ]
    },
    {
      "cell_type": "code",
      "execution_count": null,
      "metadata": {
        "id": "ljJHevPSbgAo"
      },
      "outputs": [],
      "source": [
        "#YOUR CODE HERE\n",
        "# ...\n",
        "# ...\n",
        "\n",
        "# rmse_lr_sem = ...\n",
        "# r2_lr_sem = ...\n",
        "\n",
        "print('RMSE for semilinear-regression model is:',rmse_lr_sem)\n",
        "print('R2 for semilinear-regression model is:',r2_lr_sem)\n"
      ]
    },
    {
      "cell_type": "markdown",
      "source": [
        "Does this improve the results? Why?\n",
        "\n",
        "<font color = 'green'> YOUR ANSWER HERE"
      ],
      "metadata": {
        "id": "3U9bP5QKRT9l"
      }
    },
    {
      "cell_type": "markdown",
      "source": [
        "\n",
        "\n",
        "## <font color = 'black'> 3.3 Coefficients of lasso regression </font>"
      ],
      "metadata": {
        "id": "7rj88EYS-TSj"
      }
    },
    {
      "cell_type": "markdown",
      "metadata": {
        "id": "YvyGi8pNkeqA"
      },
      "source": [
        "### 3.3.1 Non-zero coefficients\n",
        "\n",
        "In linear regression with $\\ell_1$ regularization (Lasso regression), the regularization term introduces a penalty on the sum of the absolute values of the coefficients, controlled by the hyperparameter `alpha`. This penalty encourages sparsity by driving some coefficients to zero, while the remaining coefficients are constrained to be smaller than a certain value $c$, influenced by the strength of the hyperparameter alpha.\n",
        "\n",
        "$$\n",
        "f(\\mathbf x) = \\mathbf w^\\top \\mathbf x + w_0 = w_0 + \\sum_{k=1}^d w_kx_k \\quad s.t. |w| \\leq c$$\n",
        "\n",
        "\n",
        "As mentioned, the key property of $\\ell_1$ regularization, lasso, is that it encourages sparsity in the weights $\\mathbf{w}$. This means that for many irrelevant or redundant features, the corresponding coefficiente ($w_k$) will be exactly zero. Consequently, these features are effectively excluded from the model.\n",
        "\n",
        "\n",
        "This ability to select only relevant features is valuable for simplifying the model, improving interpretability, and reducing the risk of overfitting, particularly when dealing with high-dimensional data.\n",
        "\n",
        "By setting irrelevant features to zero, we can evaluate the model's performance based solely on the most significant features, providing a clearer understanding of how the model makes predictions."
      ]
    },
    {
      "cell_type": "markdown",
      "source": [
        "Retrieve the coefficients of the lasso linear regressor from Section 2.3.3. Print which features have non-zero values. Then, create a new variable that stores the training and test matrices with only the features that have non-zero weights."
      ],
      "metadata": {
        "id": "IbCD0NZWLkAg"
      }
    },
    {
      "cell_type": "code",
      "source": [
        "#YOUR CODE HERE\n",
        "# ...\n",
        "# ...\n"
      ],
      "metadata": {
        "id": "XKDcC3GfLZrz"
      },
      "execution_count": null,
      "outputs": []
    },
    {
      "cell_type": "markdown",
      "source": [
        "How many features have non-zero coefficients?\n",
        "\n",
        "\n",
        "\n",
        "<font color = 'green'> YOUR ANSWER HERE"
      ],
      "metadata": {
        "id": "TZyxajYL9NH8"
      }
    },
    {
      "cell_type": "markdown",
      "metadata": {
        "id": "9eyQYQiCmTvR"
      },
      "source": [
        "### 3.3.2 Polynomial feature extension for non-zero coefficient features\n",
        "\n",
        "Once the features with non-zero coefficients have been identified, extend the selected features from the train and test subsets by taking products of some original columns to construct polynomial functions of the original features.\n",
        "\n",
        "\n",
        "\n",
        "In `scikit-learn`, there is a module called [PolynomialFeatures](https://scikit-learn.org/stable/modules/generated/sklearn.preprocessing.PolynomialFeatures.html) that allows you to create polynomial expansions of the columns up to a specified degree. In this assignment, the hyperparameter `degree` is set to $2$.\n"
      ]
    },
    {
      "cell_type": "code",
      "execution_count": null,
      "metadata": {
        "id": "nzagB8c1iXvN"
      },
      "outputs": [],
      "source": [
        "from sklearn.preprocessing import PolynomialFeatures\n",
        "\n",
        "#YOUR CODE HERE\n",
        "# ...\n",
        "# ...\n",
        "\n",
        "# Xp_train = ...\n",
        "# Xp_test = ..."
      ]
    },
    {
      "cell_type": "markdown",
      "metadata": {
        "id": "0VMmTUSUEX8o"
      },
      "source": [
        "How many features are there in the training and test sets, respectively?"
      ]
    },
    {
      "cell_type": "code",
      "execution_count": null,
      "metadata": {
        "id": "trBqf2TWEmsZ"
      },
      "outputs": [],
      "source": [
        "#YOUR CODE HERE\n",
        "#n_poly_tr   = ...\n",
        "#n_poly_tst  = ...\n",
        "\n",
        "print('The number of training samples is:', n_poly_tr)\n",
        "print('The number of validation samples is:', n_poly_tst)"
      ]
    },
    {
      "cell_type": "markdown",
      "metadata": {
        "id": "tP9jyKfJp9_l"
      },
      "source": [
        "**Are all of them important for the regression task?** To answer this question, please use a lasso regressor to determine the regression model in the new feature space created by the polynomial expansion of the columns. For this task, the hyperparameter `alpha` is set to $0.5$."
      ]
    },
    {
      "cell_type": "code",
      "execution_count": null,
      "metadata": {
        "id": "8hX6nCaEix_y"
      },
      "outputs": [],
      "source": [
        "#YOUR CODE HERE\n",
        "# ...\n",
        "# ..."
      ]
    },
    {
      "cell_type": "markdown",
      "metadata": {
        "id": "HL5MzTx2qbcm"
      },
      "source": [
        "Is there any coefficient equal to zero?\n",
        "\n",
        "<font color = 'green'> YOUR ANSWER HERE"
      ]
    },
    {
      "cell_type": "code",
      "execution_count": null,
      "metadata": {
        "id": "mcQaptUqjMVU"
      },
      "outputs": [],
      "source": [
        "#YOUR CODE HERE\n",
        "# ...\n",
        "\n",
        "#coef_zero = ...\n",
        "\n",
        "print('The number of coefficients equal to zero is: ', coef_zero.shape[1])"
      ]
    },
    {
      "cell_type": "markdown",
      "source": [
        "Why do you think so many coefficients are zero?\n",
        "\n",
        "<font color = 'green'> YOUR ANSWER HERE"
      ],
      "metadata": {
        "id": "xh_nhAk9ANlT"
      }
    },
    {
      "cell_type": "markdown",
      "metadata": {
        "id": "6ABKxhK2qnU2"
      },
      "source": [
        "Calculate the $R^2$ and RMSE metrics on the *new *test set and print the results. Please round all numbers to 2 decimal places."
      ]
    },
    {
      "cell_type": "code",
      "execution_count": null,
      "metadata": {
        "id": "Z2gENfBuorpi"
      },
      "outputs": [],
      "source": [
        "#YOUR CODE HERE\n",
        "# ...\n",
        "\n",
        "# rmse_lasso_poly = ...\n",
        "# r2_lasso_poly = ...\n",
        "\n",
        "print('RMSE for polynomial Lasso model is:',rmse_lasso_poly)\n",
        "print('R2 for polynomial Lasso model is:',r2_lasso_poly)"
      ]
    },
    {
      "cell_type": "markdown",
      "metadata": {
        "id": "8Qir19NOSvtA"
      },
      "source": [
        "# <font color = 'black'> 4. Best regression model </font>\n",
        "\n",
        "It has always been said that we understand faster when we visualize data. In this final section of the assignment, we will determine which regression model is the best fit for our data!\n",
        "\n",
        "Using a bar plot, represent the $R^2$ obtained by each regression model evaluated in this assignment (trained with its best hyperparameters) for the **test set**. Also, include the values obtained in Section 3.\n",
        "\n",
        "\n",
        "\n"
      ]
    },
    {
      "cell_type": "code",
      "source": [
        "def addlabels(x,y):\n",
        "    for i in range(len(x)):\n",
        "        plt.text(i,y[i],y[i])"
      ],
      "metadata": {
        "id": "DDKNdU7-3TDp"
      },
      "execution_count": null,
      "outputs": []
    },
    {
      "cell_type": "code",
      "execution_count": null,
      "metadata": {
        "id": "ETqeOa4CWAqz"
      },
      "outputs": [],
      "source": [
        "#YOUR CODE HERE\n",
        "# ...\n",
        "# ...\n",
        "# ..."
      ]
    },
    {
      "cell_type": "markdown",
      "metadata": {
        "id": "JTOiq38wuIpe"
      },
      "source": [
        "Which model achieves the best $R^2$ score?\n",
        "\n",
        "<font color = 'green'> YOUR ANSWER HERE"
      ]
    },
    {
      "cell_type": "markdown",
      "metadata": {
        "id": "J-7GUrydbsqj"
      },
      "source": [
        "### **This was your first real machine learning project! Congratulations!**\n",
        "### **We'll let this end here for now!**\n"
      ]
    }
  ],
  "metadata": {
    "colab": {
      "provenance": [],
      "toc_visible": true
    },
    "kernelspec": {
      "display_name": "Python 3 (ipykernel)",
      "language": "python",
      "name": "python3"
    },
    "language_info": {
      "codemirror_mode": {
        "name": "ipython",
        "version": 3
      },
      "file_extension": ".py",
      "mimetype": "text/x-python",
      "name": "python",
      "nbconvert_exporter": "python",
      "pygments_lexer": "ipython3",
      "version": "3.9.13"
    }
  },
  "nbformat": 4,
  "nbformat_minor": 0
}